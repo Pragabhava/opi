{
 "cells": [
  {
   "cell_type": "markdown",
   "metadata": {},
   "source": [
    "# B1 QQP"
   ]
  },
  {
   "cell_type": "markdown",
   "metadata": {},
   "source": [
    "Primero obtuvimos los datos del portal de Profeco."
   ]
  },
  {
   "cell_type": "code",
   "execution_count": null,
   "metadata": {},
   "outputs": [],
   "source": [
    "# import os\n",
    "# import wget\n",
    "# import zipfile\n",
    "\n",
    "# if not os.path.exists('qqp.zip') or not os.path.exists('qqp.csv'):\n",
    "#     wget.download(\n",
    "#        'https://drive.google.com/uc?export=download&id=0B-4W2dww7ELNazFfOFVhNG5vckE',\n",
    "#         'qqp.zip'\n",
    "#     )\n",
    "\n",
    "# if not os.path.exists('qqp.csv'):\n",
    "#     zipfile.ZipFile('qqp.zip').extractall()\n",
    "#     os.rename('all_data.csv','qqp.csv') "
   ]
  },
  {
   "cell_type": "markdown",
   "metadata": {},
   "source": [
    "El archivo `csv` es enorme (~19gb), por lo que lo vamos a convertir a un formato más trabajable. Para ello, primero quisieramos ver qué contiene."
   ]
  },
  {
   "cell_type": "code",
   "execution_count": 27,
   "metadata": {},
   "outputs": [],
   "source": [
    "import pandas as pd\n",
    "import pyarrow as pa\n",
    "import pyarrow.parquet as pq"
   ]
  },
  {
   "cell_type": "code",
   "execution_count": 3,
   "metadata": {},
   "outputs": [],
   "source": [
    "csv_file = 'qqp.csv'\n",
    "parquet_file = 'pyspark_qqp/qqp.parquet'\n",
    "chunksize = 100_000\n",
    "\n",
    "csv_stream = pd.read_csv(csv_file, sep=',', chunksize=chunksize, low_memory=False)"
   ]
  },
  {
   "cell_type": "code",
   "execution_count": 4,
   "metadata": {},
   "outputs": [
    {
     "data": {
      "text/html": [
       "<div>\n",
       "<style scoped>\n",
       "    .dataframe tbody tr th:only-of-type {\n",
       "        vertical-align: middle;\n",
       "    }\n",
       "\n",
       "    .dataframe tbody tr th {\n",
       "        vertical-align: top;\n",
       "    }\n",
       "\n",
       "    .dataframe thead th {\n",
       "        text-align: right;\n",
       "    }\n",
       "</style>\n",
       "<table border=\"1\" class=\"dataframe\">\n",
       "  <thead>\n",
       "    <tr style=\"text-align: right;\">\n",
       "      <th></th>\n",
       "      <th>producto</th>\n",
       "      <th>presentacion</th>\n",
       "      <th>marca</th>\n",
       "      <th>categoria</th>\n",
       "      <th>catalogo</th>\n",
       "      <th>precio</th>\n",
       "      <th>fechaRegistro</th>\n",
       "      <th>cadenaComercial</th>\n",
       "      <th>giro</th>\n",
       "      <th>nombreComercial</th>\n",
       "      <th>direccion</th>\n",
       "      <th>estado</th>\n",
       "      <th>municipio</th>\n",
       "      <th>latitud</th>\n",
       "      <th>longitud</th>\n",
       "    </tr>\n",
       "  </thead>\n",
       "  <tbody>\n",
       "    <tr>\n",
       "      <th>0</th>\n",
       "      <td>CUADERNO FORMA ITALIANA</td>\n",
       "      <td>96 HOJAS PASTA DURA. CUADRICULA CHICA</td>\n",
       "      <td>ESTRELLA</td>\n",
       "      <td>MATERIAL ESCOLAR</td>\n",
       "      <td>UTILES ESCOLARES</td>\n",
       "      <td>25.9</td>\n",
       "      <td>2011-05-18 00:00:00.000</td>\n",
       "      <td>ABASTECEDORA LUMEN</td>\n",
       "      <td>PAPELERIAS</td>\n",
       "      <td>ABASTECEDORA LUMEN SUCURSAL VILLA COAPA</td>\n",
       "      <td>CANNES No. 6 ESQ. CANAL DE MIRAMONTES</td>\n",
       "      <td>DISTRITO FEDERAL</td>\n",
       "      <td>TLALPAN</td>\n",
       "      <td>19.29699</td>\n",
       "      <td>-99.125417</td>\n",
       "    </tr>\n",
       "  </tbody>\n",
       "</table>\n",
       "</div>"
      ],
      "text/plain": [
       "                  producto                           presentacion     marca  \\\n",
       "0  CUADERNO FORMA ITALIANA  96 HOJAS PASTA DURA. CUADRICULA CHICA  ESTRELLA   \n",
       "\n",
       "          categoria          catalogo  precio            fechaRegistro  \\\n",
       "0  MATERIAL ESCOLAR  UTILES ESCOLARES    25.9  2011-05-18 00:00:00.000   \n",
       "\n",
       "      cadenaComercial        giro                          nombreComercial  \\\n",
       "0  ABASTECEDORA LUMEN  PAPELERIAS  ABASTECEDORA LUMEN SUCURSAL VILLA COAPA   \n",
       "\n",
       "                               direccion            estado  \\\n",
       "0  CANNES No. 6 ESQ. CANAL DE MIRAMONTES  DISTRITO FEDERAL   \n",
       "\n",
       "                                  municipio   latitud   longitud  \n",
       "0  TLALPAN                                   19.29699 -99.125417  "
      ]
     },
     "metadata": {},
     "output_type": "display_data"
    }
   ],
   "source": [
    "display(\n",
    "    csv_stream.get_chunk(1)\n",
    ")"
   ]
  },
  {
   "cell_type": "code",
   "execution_count": 5,
   "metadata": {},
   "outputs": [
    {
     "data": {
      "text/plain": [
       "producto            object\n",
       "presentacion        object\n",
       "marca               object\n",
       "categoria           object\n",
       "catalogo            object\n",
       "precio             float64\n",
       "fechaRegistro       object\n",
       "cadenaComercial     object\n",
       "giro                object\n",
       "nombreComercial     object\n",
       "direccion           object\n",
       "estado              object\n",
       "municipio           object\n",
       "latitud            float64\n",
       "longitud           float64\n",
       "dtype: object"
      ]
     },
     "execution_count": 5,
     "metadata": {},
     "output_type": "execute_result"
    }
   ],
   "source": [
    "csv_stream.get_chunk(1).dtypes"
   ]
  },
  {
   "cell_type": "markdown",
   "metadata": {},
   "source": [
    "Lo vamos a pasar a `parquet`, pero con los tipos correctos."
   ]
  },
  {
   "cell_type": "code",
   "execution_count": 6,
   "metadata": {},
   "outputs": [
    {
     "name": "stdout",
     "output_type": "stream",
     "text": [
      "Chunk 626\n",
      "Finished writing parquet file\n"
     ]
    }
   ],
   "source": [
    "for i, chunk in enumerate(csv_stream):\n",
    "    tmp_chunk = chunk.copy()\n",
    "    tmp_chunk.fechaRegistro = pd.to_datetime(tmp_chunk.fechaRegistro, errors='coerce')\n",
    "    tmp_chunk.precio = pd.to_numeric(tmp_chunk.precio, errors='coerce')\n",
    "    tmp_chunk.latitud = pd.to_numeric(tmp_chunk.latitud, errors='coerce')\n",
    "    tmp_chunk.longitud = pd.to_numeric(tmp_chunk.longitud, errors='coerce')\n",
    "    print('\\rChunk {}'.format(i+1), end=\"\")\n",
    "    if i == 0:\n",
    "        parquet_schema = pa.Table.from_pandas(df=tmp_chunk).schema\n",
    "        parquet_writer = pq.ParquetWriter(parquet_file, parquet_schema, compression='snappy')\n",
    "    table = pa.Table.from_pandas(tmp_chunk, schema=parquet_schema)\n",
    "    parquet_writer.write_table(table)\n",
    "\n",
    "print('\\nFinished writing parquet file')\n",
    "parquet_writer.close()"
   ]
  },
  {
   "cell_type": "markdown",
   "metadata": {},
   "source": [
    "Importamos `pyspark`."
   ]
  },
  {
   "cell_type": "code",
   "execution_count": 7,
   "metadata": {},
   "outputs": [],
   "source": [
    "import findspark\n",
    "findspark.init('/home/radioabava/spark-3.0.0-bin-hadoop3.2/')"
   ]
  },
  {
   "cell_type": "code",
   "execution_count": 8,
   "metadata": {},
   "outputs": [],
   "source": [
    "from pyspark import SparkContext\n",
    "from pyspark.sql import SQLContext\n",
    "\n",
    "sc = SparkContext()\n",
    "sqlContext = SQLContext(sc)\n",
    "df = sqlContext.read.load(\"pyspark_qqp/qqp.parquet\")"
   ]
  },
  {
   "cell_type": "markdown",
   "metadata": {},
   "source": [
    "### ¿Cuántos registros hay?"
   ]
  },
  {
   "cell_type": "code",
   "execution_count": 9,
   "metadata": {},
   "outputs": [
    {
     "name": "stdout",
     "output_type": "stream",
     "text": [
      "(62530713, 15)\n"
     ]
    }
   ],
   "source": [
    "print((df.count(), len(df.columns)))"
   ]
  },
  {
   "cell_type": "markdown",
   "metadata": {},
   "source": [
    "Observamos que hay más de 62 millones de registros."
   ]
  },
  {
   "cell_type": "markdown",
   "metadata": {},
   "source": [
    "### ¿Cuántas categorías?"
   ]
  },
  {
   "cell_type": "code",
   "execution_count": 10,
   "metadata": {},
   "outputs": [
    {
     "data": {
      "text/plain": [
       "42"
      ]
     },
     "execution_count": 10,
     "metadata": {},
     "output_type": "execute_result"
    }
   ],
   "source": [
    "df.select('categoria').distinct().count()"
   ]
  },
  {
   "cell_type": "markdown",
   "metadata": {},
   "source": [
    "Hay 42 categorías de productos."
   ]
  },
  {
   "cell_type": "markdown",
   "metadata": {},
   "source": [
    "### ¿Cuántas cadenas comerciales están siendo monitoreadas?"
   ]
  },
  {
   "cell_type": "code",
   "execution_count": 11,
   "metadata": {},
   "outputs": [
    {
     "data": {
      "text/plain": [
       "706"
      ]
     },
     "execution_count": 11,
     "metadata": {},
     "output_type": "execute_result"
    }
   ],
   "source": [
    "df.select('cadenaComercial').distinct().count()"
   ]
  },
  {
   "cell_type": "markdown",
   "metadata": {},
   "source": [
    "706 cadenas están siendo monitoreadas."
   ]
  },
  {
   "cell_type": "markdown",
   "metadata": {},
   "source": [
    "### ¿Cómo podrías determinar la calidad de los datos?"
   ]
  },
  {
   "cell_type": "markdown",
   "metadata": {},
   "source": [
    "Lo primero que podemos observar es cuántos registros inválidos existen."
   ]
  },
  {
   "cell_type": "code",
   "execution_count": 12,
   "metadata": {},
   "outputs": [
    {
     "data": {
      "text/plain": [
       "{'producto': 0,\n",
       " 'presentacion': 0,\n",
       " 'marca': 0,\n",
       " 'categoria': 887338,\n",
       " 'catalogo': 228,\n",
       " 'precio': 20,\n",
       " 'fechaRegistro': 20,\n",
       " 'cadenaComercial': 1184,\n",
       " 'giro': 287,\n",
       " 'nombreComercial': 0,\n",
       " 'direccion': 0,\n",
       " 'estado': 15054,\n",
       " 'municipio': 15054,\n",
       " 'latitud': 1152743,\n",
       " 'longitud': 1152743}"
      ]
     },
     "execution_count": 12,
     "metadata": {},
     "output_type": "execute_result"
    }
   ],
   "source": [
    "{ col: df.filter(df[col].isNull()).count() for col in df.columns }"
   ]
  },
  {
   "cell_type": "markdown",
   "metadata": {},
   "source": [
    "Lo que más falta son latitudes y longitudes. Posteriormente las categorías. Una primera idea para completar los faltantes sería tomar la categoría del mismo producto en otro registro. De igual manera, por medio de la dirección, podríamos completar algunos datos de latitudes y longitudes. Sin embargo, para este ejercicio y dado que los datos faltantes representan menos del 1% del total, simplemente los eliminaremos."
   ]
  },
  {
   "cell_type": "code",
   "execution_count": 18,
   "metadata": {},
   "outputs": [],
   "source": [
    "df = df.na.drop()"
   ]
  },
  {
   "cell_type": "code",
   "execution_count": 19,
   "metadata": {},
   "outputs": [
    {
     "name": "stdout",
     "output_type": "stream",
     "text": [
      "(60502738, 15)\n"
     ]
    }
   ],
   "source": [
    "print((df.count(), len(df.columns)))"
   ]
  },
  {
   "cell_type": "markdown",
   "metadata": {},
   "source": [
    "También podemos estudiar los precios."
   ]
  },
  {
   "cell_type": "code",
   "execution_count": 20,
   "metadata": {},
   "outputs": [],
   "source": [
    "histograma_precio = df.select('precio').rdd.flatMap(lambda x: x).histogram(11)"
   ]
  },
  {
   "cell_type": "code",
   "execution_count": 25,
   "metadata": {},
   "outputs": [],
   "source": [
    "from matplotlib import pyplot as plt\n",
    "import matplotlib.dates as mdates"
   ]
  },
  {
   "cell_type": "code",
   "execution_count": 26,
   "metadata": {},
   "outputs": [
    {
     "data": {
      "image/png": "[encoded data removed]",
      "text/plain": [
       "<Figure size 432x288 with 1 Axes>"
      ]
     },
     "metadata": {
      "needs_background": "light"
     },
     "output_type": "display_data"
    }
   ],
   "source": [
    "pd.DataFrame(\n",
    "    list(zip(*histograma_precio)), \n",
    "    columns=['bin', 'frecuencia']\n",
    ").set_index(\n",
    "    'bin'\n",
    ").plot(kind='bar')\n",
    "plt.show()\n"
   ]
  },
  {
   "cell_type": "markdown",
   "metadata": {},
   "source": [
    "Por el tipo de productos estudiados, es dudoso que haya algunos con un costo superior a los 100,000MXN"
   ]
  },
  {
   "cell_type": "code",
   "execution_count": null,
   "metadata": {},
   "outputs": [],
   "source": []
  }
 ],
 "metadata": {
  "kernelspec": {
   "display_name": "Python 3",
   "language": "python",
   "name": "python3"
  },
  "language_info": {
   "codemirror_mode": {
    "name": "ipython",
    "version": 3
   },
   "file_extension": ".py",
   "mimetype": "text/x-python",
   "name": "python",
   "nbconvert_exporter": "python",
   "pygments_lexer": "ipython3",
   "version": "3.8.0"
  }
 },
 "nbformat": 4,
 "nbformat_minor": 4
}
