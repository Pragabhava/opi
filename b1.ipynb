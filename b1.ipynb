{
 "cells": [
  {
   "cell_type": "markdown",
   "metadata": {},
   "source": [
    "# B1 QQP"
   ]
  },
  {
   "cell_type": "markdown",
   "metadata": {},
   "source": [
    "Primero obtuvimos los datos del portal de Profeco."
   ]
  },
  {
   "cell_type": "code",
   "execution_count": 41,
   "metadata": {},
   "outputs": [],
   "source": [
    "# import os\n",
    "# import wget\n",
    "# import zipfile\n",
    "\n",
    "# if not os.path.exists('qqp.zip') or not os.path.exists('qqp.csv'):\n",
    "#     wget.download(\n",
    "#        'https://drive.google.com/uc?export=download&id=0B-4W2dww7ELNazFfOFVhNG5vckE',\n",
    "#         'qqp.zip'\n",
    "#     )\n",
    "\n",
    "# if not os.path.exists('qqp.csv'):\n",
    "#     zipfile.ZipFile('qqp.zip').extractall()\n",
    "#     os.rename('all_data.csv','qqp.csv') "
   ]
  },
  {
   "cell_type": "markdown",
   "metadata": {},
   "source": [
    "El archivo `csv` es enorme (~19gb), por lo que lo vamos a convertir a un formato más trabajable. Para ello, primero quisieramos ver qué contiene."
   ]
  },
  {
   "cell_type": "code",
   "execution_count": 27,
   "metadata": {},
   "outputs": [],
   "source": [
    "import pandas as pd\n",
    "import pyarrow as pa\n",
    "import pyarrow.parquet as pq"
   ]
  },
  {
   "cell_type": "code",
   "execution_count": 3,
   "metadata": {},
   "outputs": [],
   "source": [
    "csv_file = 'qqp.csv'\n",
    "parquet_file = 'pyspark_qqp/qqp.parquet'\n",
    "chunksize = 100_000\n",
    "\n",
    "csv_stream = pd.read_csv(csv_file, sep=',', chunksize=chunksize, low_memory=False)"
   ]
  },
  {
   "cell_type": "code",
   "execution_count": 4,
   "metadata": {},
   "outputs": [
    {
     "data": {
      "text/html": [
       "<div>\n",
       "<style scoped>\n",
       "    .dataframe tbody tr th:only-of-type {\n",
       "        vertical-align: middle;\n",
       "    }\n",
       "\n",
       "    .dataframe tbody tr th {\n",
       "        vertical-align: top;\n",
       "    }\n",
       "\n",
       "    .dataframe thead th {\n",
       "        text-align: right;\n",
       "    }\n",
       "</style>\n",
       "<table border=\"1\" class=\"dataframe\">\n",
       "  <thead>\n",
       "    <tr style=\"text-align: right;\">\n",
       "      <th></th>\n",
       "      <th>producto</th>\n",
       "      <th>presentacion</th>\n",
       "      <th>marca</th>\n",
       "      <th>categoria</th>\n",
       "      <th>catalogo</th>\n",
       "      <th>precio</th>\n",
       "      <th>fechaRegistro</th>\n",
       "      <th>cadenaComercial</th>\n",
       "      <th>giro</th>\n",
       "      <th>nombreComercial</th>\n",
       "      <th>direccion</th>\n",
       "      <th>estado</th>\n",
       "      <th>municipio</th>\n",
       "      <th>latitud</th>\n",
       "      <th>longitud</th>\n",
       "    </tr>\n",
       "  </thead>\n",
       "  <tbody>\n",
       "    <tr>\n",
       "      <th>0</th>\n",
       "      <td>CUADERNO FORMA ITALIANA</td>\n",
       "      <td>96 HOJAS PASTA DURA. CUADRICULA CHICA</td>\n",
       "      <td>ESTRELLA</td>\n",
       "      <td>MATERIAL ESCOLAR</td>\n",
       "      <td>UTILES ESCOLARES</td>\n",
       "      <td>25.9</td>\n",
       "      <td>2011-05-18 00:00:00.000</td>\n",
       "      <td>ABASTECEDORA LUMEN</td>\n",
       "      <td>PAPELERIAS</td>\n",
       "      <td>ABASTECEDORA LUMEN SUCURSAL VILLA COAPA</td>\n",
       "      <td>CANNES No. 6 ESQ. CANAL DE MIRAMONTES</td>\n",
       "      <td>DISTRITO FEDERAL</td>\n",
       "      <td>TLALPAN</td>\n",
       "      <td>19.29699</td>\n",
       "      <td>-99.125417</td>\n",
       "    </tr>\n",
       "  </tbody>\n",
       "</table>\n",
       "</div>"
      ],
      "text/plain": [
       "                  producto                           presentacion     marca  \\\n",
       "0  CUADERNO FORMA ITALIANA  96 HOJAS PASTA DURA. CUADRICULA CHICA  ESTRELLA   \n",
       "\n",
       "          categoria          catalogo  precio            fechaRegistro  \\\n",
       "0  MATERIAL ESCOLAR  UTILES ESCOLARES    25.9  2011-05-18 00:00:00.000   \n",
       "\n",
       "      cadenaComercial        giro                          nombreComercial  \\\n",
       "0  ABASTECEDORA LUMEN  PAPELERIAS  ABASTECEDORA LUMEN SUCURSAL VILLA COAPA   \n",
       "\n",
       "                               direccion            estado  \\\n",
       "0  CANNES No. 6 ESQ. CANAL DE MIRAMONTES  DISTRITO FEDERAL   \n",
       "\n",
       "                                  municipio   latitud   longitud  \n",
       "0  TLALPAN                                   19.29699 -99.125417  "
      ]
     },
     "metadata": {},
     "output_type": "display_data"
    }
   ],
   "source": [
    "display(\n",
    "    csv_stream.get_chunk(1)\n",
    ")"
   ]
  },
  {
   "cell_type": "code",
   "execution_count": 5,
   "metadata": {},
   "outputs": [
    {
     "data": {
      "text/plain": [
       "producto            object\n",
       "presentacion        object\n",
       "marca               object\n",
       "categoria           object\n",
       "catalogo            object\n",
       "precio             float64\n",
       "fechaRegistro       object\n",
       "cadenaComercial     object\n",
       "giro                object\n",
       "nombreComercial     object\n",
       "direccion           object\n",
       "estado              object\n",
       "municipio           object\n",
       "latitud            float64\n",
       "longitud           float64\n",
       "dtype: object"
      ]
     },
     "execution_count": 5,
     "metadata": {},
     "output_type": "execute_result"
    }
   ],
   "source": [
    "csv_stream.get_chunk(1).dtypes"
   ]
  },
  {
   "cell_type": "markdown",
   "metadata": {},
   "source": [
    "Lo vamos a pasar a `parquet`, pero con los tipos correctos."
   ]
  },
  {
   "cell_type": "code",
   "execution_count": 6,
   "metadata": {},
   "outputs": [
    {
     "name": "stdout",
     "output_type": "stream",
     "text": [
      "Chunk 626\n",
      "Finished writing parquet file\n"
     ]
    }
   ],
   "source": [
    "for i, chunk in enumerate(csv_stream):\n",
    "    tmp_chunk = chunk.copy()\n",
    "    tmp_chunk.fechaRegistro = pd.to_datetime(tmp_chunk.fechaRegistro, errors='coerce')\n",
    "    tmp_chunk.precio = pd.to_numeric(tmp_chunk.precio, errors='coerce')\n",
    "    tmp_chunk.latitud = pd.to_numeric(tmp_chunk.latitud, errors='coerce')\n",
    "    tmp_chunk.longitud = pd.to_numeric(tmp_chunk.longitud, errors='coerce')\n",
    "    print('\\rChunk {}'.format(i+1), end=\"\")\n",
    "    if i == 0:\n",
    "        parquet_schema = pa.Table.from_pandas(df=tmp_chunk).schema\n",
    "        parquet_writer = pq.ParquetWriter(parquet_file, parquet_schema, compression='snappy')\n",
    "    table = pa.Table.from_pandas(tmp_chunk, schema=parquet_schema)\n",
    "    parquet_writer.write_table(table)\n",
    "\n",
    "print('\\nFinished writing parquet file')\n",
    "parquet_writer.close()"
   ]
  },
  {
   "cell_type": "markdown",
   "metadata": {},
   "source": [
    "Importamos `pyspark`."
   ]
  },
  {
   "cell_type": "code",
   "execution_count": 1,
   "metadata": {},
   "outputs": [],
   "source": [
    "import findspark\n",
    "findspark.init('/home/radioabava/spark-3.0.0-bin-hadoop3.2/')"
   ]
  },
  {
   "cell_type": "code",
   "execution_count": 2,
   "metadata": {},
   "outputs": [],
   "source": [
    "from pyspark import SparkContext\n",
    "from pyspark.sql import SQLContext\n",
    "\n",
    "sc = SparkContext()\n",
    "sqlContext = SQLContext(sc)\n",
    "df = sqlContext.read.load(\"pyspark_qqp/qqp.parquet\")"
   ]
  },
  {
   "cell_type": "markdown",
   "metadata": {},
   "source": [
    "### ¿Cuántos registros hay?"
   ]
  },
  {
   "cell_type": "code",
   "execution_count": 3,
   "metadata": {},
   "outputs": [
    {
     "name": "stdout",
     "output_type": "stream",
     "text": [
      "(62530713, 15)\n"
     ]
    }
   ],
   "source": [
    "print((df.count(), len(df.columns)))"
   ]
  },
  {
   "cell_type": "markdown",
   "metadata": {},
   "source": [
    "Observamos que hay más de 62 millones de registros."
   ]
  },
  {
   "cell_type": "markdown",
   "metadata": {},
   "source": [
    "### ¿Cuántas categorías?"
   ]
  },
  {
   "cell_type": "code",
   "execution_count": 4,
   "metadata": {},
   "outputs": [
    {
     "data": {
      "text/plain": [
       "42"
      ]
     },
     "execution_count": 4,
     "metadata": {},
     "output_type": "execute_result"
    }
   ],
   "source": [
    "df.select('categoria').distinct().count()"
   ]
  },
  {
   "cell_type": "markdown",
   "metadata": {},
   "source": [
    "Hay 42 categorías de productos."
   ]
  },
  {
   "cell_type": "markdown",
   "metadata": {},
   "source": [
    "### ¿Cuántas cadenas comerciales están siendo monitoreadas?"
   ]
  },
  {
   "cell_type": "code",
   "execution_count": 5,
   "metadata": {},
   "outputs": [
    {
     "data": {
      "text/plain": [
       "706"
      ]
     },
     "execution_count": 5,
     "metadata": {},
     "output_type": "execute_result"
    }
   ],
   "source": [
    "df.select('cadenaComercial').distinct().count()"
   ]
  },
  {
   "cell_type": "markdown",
   "metadata": {},
   "source": [
    "706 cadenas están siendo monitoreadas."
   ]
  },
  {
   "cell_type": "markdown",
   "metadata": {},
   "source": [
    "### ¿Cómo podrías determinar la calidad de los datos?"
   ]
  },
  {
   "cell_type": "markdown",
   "metadata": {},
   "source": [
    "Lo primero que podemos observar es cuántos registros inválidos existen."
   ]
  },
  {
   "cell_type": "code",
   "execution_count": 6,
   "metadata": {},
   "outputs": [
    {
     "data": {
      "text/plain": [
       "{'producto': 0,\n",
       " 'presentacion': 0,\n",
       " 'marca': 0,\n",
       " 'categoria': 887338,\n",
       " 'catalogo': 228,\n",
       " 'precio': 20,\n",
       " 'fechaRegistro': 20,\n",
       " 'cadenaComercial': 1184,\n",
       " 'giro': 287,\n",
       " 'nombreComercial': 0,\n",
       " 'direccion': 0,\n",
       " 'estado': 15054,\n",
       " 'municipio': 15054,\n",
       " 'latitud': 1152743,\n",
       " 'longitud': 1152743}"
      ]
     },
     "execution_count": 6,
     "metadata": {},
     "output_type": "execute_result"
    }
   ],
   "source": [
    "{ col: df.filter(df[col].isNull()).count() for col in df.columns }"
   ]
  },
  {
   "cell_type": "markdown",
   "metadata": {},
   "source": [
    "Lo que más falta son latitudes y longitudes. Posteriormente las categorías. Una primera idea para completar los faltantes sería tomar la categoría del mismo producto en otro registro. De igual manera, por medio de la dirección, podríamos completar algunos datos de latitudes y longitudes. Sin embargo, para este ejercicio y dado que los datos faltantes representan menos del 3% del total, simplemente los eliminaremos."
   ]
  },
  {
   "cell_type": "code",
   "execution_count": 3,
   "metadata": {},
   "outputs": [],
   "source": [
    "df = df.na.drop()"
   ]
  },
  {
   "cell_type": "code",
   "execution_count": 8,
   "metadata": {},
   "outputs": [
    {
     "name": "stdout",
     "output_type": "stream",
     "text": [
      "(60502738, 15)\n"
     ]
    }
   ],
   "source": [
    "print((df.count(), len(df.columns)))"
   ]
  },
  {
   "cell_type": "markdown",
   "metadata": {},
   "source": [
    "Ahora eliminamos los duplicados."
   ]
  },
  {
   "cell_type": "code",
   "execution_count": 4,
   "metadata": {},
   "outputs": [],
   "source": [
    "df = df.dropDuplicates()"
   ]
  },
  {
   "cell_type": "code",
   "execution_count": 5,
   "metadata": {},
   "outputs": [
    {
     "data": {
      "text/plain": [
       "58834819"
      ]
     },
     "execution_count": 5,
     "metadata": {},
     "output_type": "execute_result"
    }
   ],
   "source": [
    "df.count()"
   ]
  },
  {
   "cell_type": "markdown",
   "metadata": {},
   "source": [
    "Como se puede observar en el código de traducción del `csv` en `parquet`, hubo que forzar la conversión en todas las variables cuantitativas. Esto porque se detectaron algunas inconsistencias en ciertos registros. En particular, algunos precios, en vez de traer el monto, traían la leyenda `precio`. Al forzar la conversión, automáticamente los volvimos `nan` en el archivo `parquet`. Lo mismo ocurrió con `longitud`, `latitud` y `fechaRegistro`."
   ]
  },
  {
   "cell_type": "markdown",
   "metadata": {},
   "source": [
    "Para los outliers, podríamos usar la regla del [rango intercuartil](https://en.wikipedia.org/wiki/Interquartile_range). En nuestro caso, por simplicidad vamos a despreciar todo lo que esté más allá de 3 desviaciones estándar de la media."
   ]
  },
  {
   "cell_type": "code",
   "execution_count": 6,
   "metadata": {},
   "outputs": [],
   "source": [
    "import pyspark.sql.functions as F\n",
    "\n",
    "df_stats = df.select(\n",
    "    F.mean(F.col('precio')).alias('precio_mean'),\n",
    "    F.stddev(F.col('precio')).alias('precio_std'),\n",
    "    F.min(F.col('precio')).alias('precio_min'),\n",
    "    F.max(F.col('precio')).alias('precio_max'),\n",
    "    F.mean(F.col('latitud')).alias('latitud_mean'),\n",
    "    F.stddev(F.col('latitud')).alias('latitud_std'),\n",
    "    F.min(F.col('latitud')).alias('latitud_min'),\n",
    "    F.max(F.col('latitud')).alias('latitud_max'),\n",
    "    F.mean(F.col('longitud')).alias('longitud_mean'),\n",
    "    F.stddev(F.col('longitud')).alias('longitud_std'),\n",
    "    F.min(F.col('longitud')).alias('longitud_min'),\n",
    "    F.max(F.col('longitud')).alias('longitud_max'),\n",
    ").collect()[0]"
   ]
  },
  {
   "cell_type": "code",
   "execution_count": 7,
   "metadata": {},
   "outputs": [
    {
     "data": {
      "text/plain": [
       "Row(precio_mean=521.0713249850005, precio_std=2001.017809523212, precio_min=0.1, precio_max=299999.0, latitud_mean=23.814449363067286, latitud_std=270.1015986824846, latitud_min=0.0, latitud_max=28745.542, longitud_mean=-100.05063097301948, longitud_std=10.955574335990459, longitud_min=-1061.61231, longitud_max=115.47893700000002)"
      ]
     },
     "metadata": {},
     "output_type": "display_data"
    }
   ],
   "source": [
    "display(df_stats)"
   ]
  },
  {
   "cell_type": "code",
   "execution_count": 8,
   "metadata": {},
   "outputs": [],
   "source": [
    "filtered_df = df.filter(df['precio'] <= df_stats['precio_mean'] + 3 * df_stats['precio_std']) \\\n",
    "                .filter(df['latitud'] <= df_stats['latitud_mean'] + 3 * df_stats['latitud_std']) \\\n",
    "                .filter(df['latitud'] >= df_stats['latitud_mean'] - 3 * df_stats['latitud_std']) \\\n",
    "                .filter(df['longitud'] <= df_stats['longitud_mean'] + 3 * df_stats['longitud_std']) \\\n",
    "                .filter(df['longitud'] >= df_stats['longitud_mean'] - 3 * df_stats['longitud_std'])"
   ]
  },
  {
   "cell_type": "code",
   "execution_count": 54,
   "metadata": {},
   "outputs": [
    {
     "data": {
      "text/plain": [
       "57452976"
      ]
     },
     "metadata": {},
     "output_type": "display_data"
    }
   ],
   "source": [
    "display(filtered_df.count())"
   ]
  },
  {
   "cell_type": "markdown",
   "metadata": {},
   "source": [
    "Hemos eliminado duplicados, faltantes atípicos y algunos que identificamos como mal capturados."
   ]
  },
  {
   "cell_type": "markdown",
   "metadata": {},
   "source": [
    "### ¿Cuáles son los productos más monitoreados en cada entidad?"
   ]
  },
  {
   "cell_type": "code",
   "execution_count": 9,
   "metadata": {},
   "outputs": [],
   "source": [
    "prod_estado_df = filtered_df[['estado', 'producto']].groupby('estado','producto').count()"
   ]
  },
  {
   "cell_type": "code",
   "execution_count": 10,
   "metadata": {},
   "outputs": [],
   "source": [
    "from pyspark.sql.window import Window\n",
    "\n",
    "window = Window.partitionBy(\n",
    "    prod_estado_df['estado']\n",
    ").orderBy(\n",
    "    prod_estado_df['count'].desc()\n",
    ")\n",
    "\n",
    "top_prod_estado_df = prod_estado_df.select(\n",
    "    '*',\n",
    "    F.rank().over(window).alias('posicion')\n",
    ").filter(F.col('posicion') <= 2) \\\n",
    " .orderBy(F.col('estado'), F.col('count').desc())"
   ]
  },
  {
   "cell_type": "code",
   "execution_count": 11,
   "metadata": {},
   "outputs": [
    {
     "name": "stdout",
     "output_type": "stream",
     "text": [
      "+--------------------+--------------------+------+--------+\n",
      "|              estado|            producto| count|posicion|\n",
      "+--------------------+--------------------+------+--------+\n",
      "|      AGUASCALIENTES|                 FUD| 10018|       1|\n",
      "|      AGUASCALIENTES|            REFRESCO|  8073|       2|\n",
      "|     BAJA CALIFORNIA|            REFRESCO| 35360|       1|\n",
      "|     BAJA CALIFORNIA|   DETERGENTE P/ROPA| 21017|       2|\n",
      "| BAJA CALIFORNIA SUR|            REFRESCO| 26290|       1|\n",
      "| BAJA CALIFORNIA SUR|                 FUD| 16181|       2|\n",
      "|            CAMPECHE|                 FUD| 12011|       1|\n",
      "|            CAMPECHE|            REFRESCO| 10639|       2|\n",
      "|             CHIAPAS|            REFRESCO| 13776|       1|\n",
      "|             CHIAPAS|                 FUD|  9726|       2|\n",
      "|           CHIHUAHUA|   DETERGENTE P/ROPA| 14333|       1|\n",
      "|           CHIHUAHUA|      CHILES EN LATA| 13224|       2|\n",
      "|COAHUILA DE ZARAGOZA|                 FUD| 26720|       1|\n",
      "|COAHUILA DE ZARAGOZA|            REFRESCO| 25414|       2|\n",
      "|              COLIMA|   DETERGENTE P/ROPA| 15145|       1|\n",
      "|              COLIMA|            REFRESCO| 13010|       2|\n",
      "|    DISTRITO FEDERAL|            REFRESCO|273393|       1|\n",
      "|    DISTRITO FEDERAL|                 FUD|195873|       2|\n",
      "|             DURANGO|   DETERGENTE P/ROPA|  8612|       1|\n",
      "|             DURANGO|                 FUD|  8157|       2|\n",
      "|          GUANAJUATO|            REFRESCO| 47779|       1|\n",
      "|          GUANAJUATO|   DETERGENTE P/ROPA| 34654|       2|\n",
      "|            GUERRERO|            REFRESCO|  8328|       1|\n",
      "|            GUERRERO|                 FUD|  8113|       2|\n",
      "|             HIDALGO|            REFRESCO| 17473|       1|\n",
      "|             HIDALGO|   DETERGENTE P/ROPA| 15219|       2|\n",
      "|             JALISCO|            REFRESCO| 79595|       1|\n",
      "|             JALISCO|LECHE ULTRAPASTEU...| 72528|       2|\n",
      "| MICHOACÁN DE OCAMPO|   DETERGENTE P/ROPA| 38610|       1|\n",
      "| MICHOACÁN DE OCAMPO|            REFRESCO| 36685|       2|\n",
      "|             MORELOS|            REFRESCO|  8147|       1|\n",
      "|             MORELOS|                 FUD|  5737|       2|\n",
      "|              MÉXICO|            REFRESCO|184543|       1|\n",
      "|              MÉXICO|                 FUD|139857|       2|\n",
      "|             NAYARIT|            REFRESCO|  7409|       1|\n",
      "|             NAYARIT|                 FUD|  5966|       2|\n",
      "|          NUEVO LEÓN|   DETERGENTE P/ROPA| 48028|       1|\n",
      "|          NUEVO LEÓN|            REFRESCO| 47749|       2|\n",
      "|              OAXACA|            REFRESCO| 13946|       1|\n",
      "|              OAXACA|   DETERGENTE P/ROPA| 13639|       2|\n",
      "|              PUEBLA|            REFRESCO| 30431|       1|\n",
      "|              PUEBLA|   DETERGENTE P/ROPA| 22733|       2|\n",
      "|           QUERÉTARO|   DETERGENTE P/ROPA| 25278|       1|\n",
      "|           QUERÉTARO|            REFRESCO| 24372|       2|\n",
      "|        QUINTANA ROO|                 FUD| 32059|       1|\n",
      "|        QUINTANA ROO|            REFRESCO| 31436|       2|\n",
      "|     SAN LUIS POTOSÍ|                 FUD|  9317|       1|\n",
      "|     SAN LUIS POTOSÍ|            PLANCHAS|  6801|       2|\n",
      "|             SINALOA|            REFRESCO| 30974|       1|\n",
      "|             SINALOA|   DETERGENTE P/ROPA| 24894|       2|\n",
      "|              SONORA|            REFRESCO| 30765|       1|\n",
      "|              SONORA|   DETERGENTE P/ROPA| 28409|       2|\n",
      "|             TABASCO|            REFRESCO| 27698|       1|\n",
      "|             TABASCO|   DETERGENTE P/ROPA| 24873|       2|\n",
      "|          TAMAULIPAS|            REFRESCO| 19498|       1|\n",
      "|          TAMAULIPAS|                 FUD| 18206|       2|\n",
      "|            TLAXCALA|            REFRESCO| 41422|       1|\n",
      "|            TLAXCALA|   DETERGENTE P/ROPA| 39063|       2|\n",
      "|VERACRUZ DE IGNAC...|            REFRESCO| 13273|       1|\n",
      "|VERACRUZ DE IGNAC...|LECHE ULTRAPASTEU...|  9009|       2|\n",
      "|             YUCATÁN|            REFRESCO| 32029|       1|\n",
      "|             YUCATÁN|   DETERGENTE P/ROPA| 31599|       2|\n",
      "|           ZACATECAS|   DETERGENTE P/ROPA| 19739|       1|\n",
      "|           ZACATECAS|            MAYONESA| 15142|       2|\n",
      "+--------------------+--------------------+------+--------+\n",
      "\n"
     ]
    }
   ],
   "source": [
    "top_prod_estado_df.show(64)"
   ]
  },
  {
   "cell_type": "markdown",
   "metadata": {},
   "source": [
    "### ¿Cuál es la cadena comercial con mayor variedad de productos monitoreados?"
   ]
  },
  {
   "cell_type": "code",
   "execution_count": 12,
   "metadata": {},
   "outputs": [],
   "source": [
    "categorias_cadena_df = filtered_df[\n",
    "    ['cadenaComercial', 'producto']\n",
    "].groupby('cadenaComercial') \\\n",
    " .agg(F.countDistinct('producto'))"
   ]
  },
  {
   "cell_type": "code",
   "execution_count": 15,
   "metadata": {},
   "outputs": [
    {
     "name": "stdout",
     "output_type": "stream",
     "text": [
      "+--------------------+---------------+\n",
      "|     cadenaComercial|count(producto)|\n",
      "+--------------------+---------------+\n",
      "|             SORIANA|           1046|\n",
      "|            WAL-MART|           1038|\n",
      "|MEGA COMERCIAL ME...|           1036|\n",
      "|  COMERCIAL MEXICANA|           1023|\n",
      "|            CHEDRAUI|           1013|\n",
      "|     MERCADO SORIANA|           1010|\n",
      "|      BODEGA AURRERA|            999|\n",
      "|HIPERMERCADO SORIANA|            993|\n",
      "|              H.E.B.|            988|\n",
      "|        SORIANA PLUS|            986|\n",
      "|       SORIANA SUPER|            983|\n",
      "|BODEGA COMERCIAL ...|            963|\n",
      "|        I.S.S.S.T.E.|            925|\n",
      "|            SUPERAMA|            923|\n",
      "|              S MART|            837|\n",
      "|         CITY MARKET|            834|\n",
      "|              SUMESA|            834|\n",
      "|SUPERMERCADOS SAN...|            828|\n",
      "|FARMACIA GUADALAJARA|            816|\n",
      "|           SUPER CHE|            793|\n",
      "+--------------------+---------------+\n",
      "only showing top 20 rows\n",
      "\n"
     ]
    }
   ],
   "source": [
    "categorias_cadena_df.orderBy(F.col('count(producto)').desc()).show()"
   ]
  },
  {
   "cell_type": "code",
   "execution_count": null,
   "metadata": {},
   "outputs": [],
   "source": []
  }
 ],
 "metadata": {
  "kernelspec": {
   "display_name": "Python 3",
   "language": "python",
   "name": "python3"
  },
  "language_info": {
   "codemirror_mode": {
    "name": "ipython",
    "version": 3
   },
   "file_extension": ".py",
   "mimetype": "text/x-python",
   "name": "python",
   "nbconvert_exporter": "python",
   "pygments_lexer": "ipython3",
   "version": "3.8.0"
  }
 },
 "nbformat": 4,
 "nbformat_minor": 4
}
