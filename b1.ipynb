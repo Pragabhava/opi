{
 "cells": [
  {
   "cell_type": "markdown",
   "metadata": {},
   "source": [
    "# B1 QQP"
   ]
  },
  {
   "cell_type": "markdown",
   "metadata": {},
   "source": [
    "Primero obtuvimos los datos del portal de Profeco."
   ]
  },
  {
   "cell_type": "code",
   "execution_count": 41,
   "metadata": {},
   "outputs": [],
   "source": [
    "# import os\n",
    "# import wget\n",
    "# import zipfile\n",
    "\n",
    "# if not os.path.exists('qqp.zip') or not os.path.exists('qqp.csv'):\n",
    "#     wget.download(\n",
    "#        'https://drive.google.com/uc?export=download&id=0B-4W2dww7ELNazFfOFVhNG5vckE',\n",
    "#         'qqp.zip'\n",
    "#     )\n",
    "\n",
    "# if not os.path.exists('qqp.csv'):\n",
    "#     zipfile.ZipFile('qqp.zip').extractall()\n",
    "#     os.rename('all_data.csv','qqp.csv') "
   ]
  },
  {
   "cell_type": "markdown",
   "metadata": {},
   "source": [
    "El archivo `csv` es enorme (~19gb), por lo que lo vamos a convertir a un formato más trabajable. Para ello, primero quisieramos ver qué contiene."
   ]
  },
  {
   "cell_type": "code",
   "execution_count": 27,
   "metadata": {},
   "outputs": [],
   "source": [
    "import pandas as pd\n",
    "import pyarrow as pa\n",
    "import pyarrow.parquet as pq"
   ]
  },
  {
   "cell_type": "code",
   "execution_count": 3,
   "metadata": {},
   "outputs": [],
   "source": [
    "csv_file = 'qqp.csv'\n",
    "parquet_file = 'pyspark_qqp/qqp.parquet'\n",
    "chunksize = 100_000\n",
    "\n",
    "csv_stream = pd.read_csv(csv_file, sep=',', chunksize=chunksize, low_memory=False)"
   ]
  },
  {
   "cell_type": "code",
   "execution_count": 4,
   "metadata": {},
   "outputs": [
    {
     "data": {
      "text/html": [
       "<div>\n",
       "<style scoped>\n",
       "    .dataframe tbody tr th:only-of-type {\n",
       "        vertical-align: middle;\n",
       "    }\n",
       "\n",
       "    .dataframe tbody tr th {\n",
       "        vertical-align: top;\n",
       "    }\n",
       "\n",
       "    .dataframe thead th {\n",
       "        text-align: right;\n",
       "    }\n",
       "</style>\n",
       "<table border=\"1\" class=\"dataframe\">\n",
       "  <thead>\n",
       "    <tr style=\"text-align: right;\">\n",
       "      <th></th>\n",
       "      <th>producto</th>\n",
       "      <th>presentacion</th>\n",
       "      <th>marca</th>\n",
       "      <th>categoria</th>\n",
       "      <th>catalogo</th>\n",
       "      <th>precio</th>\n",
       "      <th>fechaRegistro</th>\n",
       "      <th>cadenaComercial</th>\n",
       "      <th>giro</th>\n",
       "      <th>nombreComercial</th>\n",
       "      <th>direccion</th>\n",
       "      <th>estado</th>\n",
       "      <th>municipio</th>\n",
       "      <th>latitud</th>\n",
       "      <th>longitud</th>\n",
       "    </tr>\n",
       "  </thead>\n",
       "  <tbody>\n",
       "    <tr>\n",
       "      <th>0</th>\n",
       "      <td>CUADERNO FORMA ITALIANA</td>\n",
       "      <td>96 HOJAS PASTA DURA. CUADRICULA CHICA</td>\n",
       "      <td>ESTRELLA</td>\n",
       "      <td>MATERIAL ESCOLAR</td>\n",
       "      <td>UTILES ESCOLARES</td>\n",
       "      <td>25.9</td>\n",
       "      <td>2011-05-18 00:00:00.000</td>\n",
       "      <td>ABASTECEDORA LUMEN</td>\n",
       "      <td>PAPELERIAS</td>\n",
       "      <td>ABASTECEDORA LUMEN SUCURSAL VILLA COAPA</td>\n",
       "      <td>CANNES No. 6 ESQ. CANAL DE MIRAMONTES</td>\n",
       "      <td>DISTRITO FEDERAL</td>\n",
       "      <td>TLALPAN</td>\n",
       "      <td>19.29699</td>\n",
       "      <td>-99.125417</td>\n",
       "    </tr>\n",
       "  </tbody>\n",
       "</table>\n",
       "</div>"
      ],
      "text/plain": [
       "                  producto                           presentacion     marca  \\\n",
       "0  CUADERNO FORMA ITALIANA  96 HOJAS PASTA DURA. CUADRICULA CHICA  ESTRELLA   \n",
       "\n",
       "          categoria          catalogo  precio            fechaRegistro  \\\n",
       "0  MATERIAL ESCOLAR  UTILES ESCOLARES    25.9  2011-05-18 00:00:00.000   \n",
       "\n",
       "      cadenaComercial        giro                          nombreComercial  \\\n",
       "0  ABASTECEDORA LUMEN  PAPELERIAS  ABASTECEDORA LUMEN SUCURSAL VILLA COAPA   \n",
       "\n",
       "                               direccion            estado  \\\n",
       "0  CANNES No. 6 ESQ. CANAL DE MIRAMONTES  DISTRITO FEDERAL   \n",
       "\n",
       "                                  municipio   latitud   longitud  \n",
       "0  TLALPAN                                   19.29699 -99.125417  "
      ]
     },
     "metadata": {},
     "output_type": "display_data"
    }
   ],
   "source": [
    "display(\n",
    "    csv_stream.get_chunk(1)\n",
    ")"
   ]
  },
  {
   "cell_type": "code",
   "execution_count": 5,
   "metadata": {},
   "outputs": [
    {
     "data": {
      "text/plain": [
       "producto            object\n",
       "presentacion        object\n",
       "marca               object\n",
       "categoria           object\n",
       "catalogo            object\n",
       "precio             float64\n",
       "fechaRegistro       object\n",
       "cadenaComercial     object\n",
       "giro                object\n",
       "nombreComercial     object\n",
       "direccion           object\n",
       "estado              object\n",
       "municipio           object\n",
       "latitud            float64\n",
       "longitud           float64\n",
       "dtype: object"
      ]
     },
     "execution_count": 5,
     "metadata": {},
     "output_type": "execute_result"
    }
   ],
   "source": [
    "csv_stream.get_chunk(1).dtypes"
   ]
  },
  {
   "cell_type": "markdown",
   "metadata": {},
   "source": [
    "Lo vamos a pasar a `parquet`, pero con los tipos correctos."
   ]
  },
  {
   "cell_type": "code",
   "execution_count": 6,
   "metadata": {},
   "outputs": [
    {
     "name": "stdout",
     "output_type": "stream",
     "text": [
      "Chunk 626\n",
      "Finished writing parquet file\n"
     ]
    }
   ],
   "source": [
    "for i, chunk in enumerate(csv_stream):\n",
    "    tmp_chunk = chunk.copy()\n",
    "    tmp_chunk.fechaRegistro = pd.to_datetime(tmp_chunk.fechaRegistro, errors='coerce')\n",
    "    tmp_chunk.precio = pd.to_numeric(tmp_chunk.precio, errors='coerce')\n",
    "    tmp_chunk.latitud = pd.to_numeric(tmp_chunk.latitud, errors='coerce')\n",
    "    tmp_chunk.longitud = pd.to_numeric(tmp_chunk.longitud, errors='coerce')\n",
    "    print('\\rChunk {}'.format(i+1), end=\"\")\n",
    "    if i == 0:\n",
    "        parquet_schema = pa.Table.from_pandas(df=tmp_chunk).schema\n",
    "        parquet_writer = pq.ParquetWriter(parquet_file, parquet_schema, compression='snappy')\n",
    "    table = pa.Table.from_pandas(tmp_chunk, schema=parquet_schema)\n",
    "    parquet_writer.write_table(table)\n",
    "\n",
    "print('\\nFinished writing parquet file')\n",
    "parquet_writer.close()"
   ]
  },
  {
   "cell_type": "markdown",
   "metadata": {},
   "source": [
    "Importamos `pyspark`."
   ]
  },
  {
   "cell_type": "code",
   "execution_count": 1,
   "metadata": {},
   "outputs": [],
   "source": [
    "import findspark\n",
    "findspark.init('/home/radioabava/spark-3.0.0-bin-hadoop3.2/')"
   ]
  },
  {
   "cell_type": "code",
   "execution_count": 2,
   "metadata": {},
   "outputs": [],
   "source": [
    "from pyspark import SparkContext\n",
    "from pyspark.sql import SQLContext\n",
    "\n",
    "sc = SparkContext()\n",
    "sqlContext = SQLContext(sc)\n",
    "df = sqlContext.read.load(\"pyspark_qqp/qqp.parquet\")"
   ]
  },
  {
   "cell_type": "markdown",
   "metadata": {},
   "source": [
    "### ¿Cuántos registros hay?"
   ]
  },
  {
   "cell_type": "code",
   "execution_count": 3,
   "metadata": {},
   "outputs": [
    {
     "name": "stdout",
     "output_type": "stream",
     "text": [
      "(62530713, 15)\n"
     ]
    }
   ],
   "source": [
    "print((df.count(), len(df.columns)))"
   ]
  },
  {
   "cell_type": "markdown",
   "metadata": {},
   "source": [
    "Observamos que hay más de 62 millones de registros."
   ]
  },
  {
   "cell_type": "markdown",
   "metadata": {},
   "source": [
    "### ¿Cuántas categorías?"
   ]
  },
  {
   "cell_type": "code",
   "execution_count": 4,
   "metadata": {},
   "outputs": [
    {
     "data": {
      "text/plain": [
       "42"
      ]
     },
     "execution_count": 4,
     "metadata": {},
     "output_type": "execute_result"
    }
   ],
   "source": [
    "df.select('categoria').distinct().count()"
   ]
  },
  {
   "cell_type": "markdown",
   "metadata": {},
   "source": [
    "Hay 42 categorías de productos."
   ]
  },
  {
   "cell_type": "markdown",
   "metadata": {},
   "source": [
    "### ¿Cuántas cadenas comerciales están siendo monitoreadas?"
   ]
  },
  {
   "cell_type": "code",
   "execution_count": 5,
   "metadata": {},
   "outputs": [
    {
     "data": {
      "text/plain": [
       "706"
      ]
     },
     "execution_count": 5,
     "metadata": {},
     "output_type": "execute_result"
    }
   ],
   "source": [
    "df.select('cadenaComercial').distinct().count()"
   ]
  },
  {
   "cell_type": "markdown",
   "metadata": {},
   "source": [
    "706 cadenas están siendo monitoreadas."
   ]
  },
  {
   "cell_type": "markdown",
   "metadata": {},
   "source": [
    "### ¿Cómo podrías determinar la calidad de los datos?"
   ]
  },
  {
   "cell_type": "markdown",
   "metadata": {},
   "source": [
    "Lo primero que podemos observar es cuántos registros inválidos existen."
   ]
  },
  {
   "cell_type": "code",
   "execution_count": 6,
   "metadata": {},
   "outputs": [
    {
     "data": {
      "text/plain": [
       "{'producto': 0,\n",
       " 'presentacion': 0,\n",
       " 'marca': 0,\n",
       " 'categoria': 887338,\n",
       " 'catalogo': 228,\n",
       " 'precio': 20,\n",
       " 'fechaRegistro': 20,\n",
       " 'cadenaComercial': 1184,\n",
       " 'giro': 287,\n",
       " 'nombreComercial': 0,\n",
       " 'direccion': 0,\n",
       " 'estado': 15054,\n",
       " 'municipio': 15054,\n",
       " 'latitud': 1152743,\n",
       " 'longitud': 1152743}"
      ]
     },
     "execution_count": 6,
     "metadata": {},
     "output_type": "execute_result"
    }
   ],
   "source": [
    "{ col: df.filter(df[col].isNull()).count() for col in df.columns }"
   ]
  },
  {
   "cell_type": "markdown",
   "metadata": {},
   "source": [
    "Lo que más falta son latitudes y longitudes. Posteriormente las categorías. Una primera idea para completar los faltantes sería tomar la categoría del mismo producto en otro registro. De igual manera, por medio de la dirección, podríamos completar algunos datos de latitudes y longitudes. Sin embargo, para este ejercicio y dado que los datos faltantes representan menos del 3% del total, simplemente los eliminaremos."
   ]
  },
  {
   "cell_type": "code",
   "execution_count": 3,
   "metadata": {},
   "outputs": [],
   "source": [
    "df = df.na.drop()"
   ]
  },
  {
   "cell_type": "code",
   "execution_count": 8,
   "metadata": {},
   "outputs": [
    {
     "name": "stdout",
     "output_type": "stream",
     "text": [
      "(60502738, 15)\n"
     ]
    }
   ],
   "source": [
    "print((df.count(), len(df.columns)))"
   ]
  },
  {
   "cell_type": "markdown",
   "metadata": {},
   "source": [
    "Ahora eliminamos los duplicados."
   ]
  },
  {
   "cell_type": "code",
   "execution_count": 4,
   "metadata": {},
   "outputs": [],
   "source": [
    "df = df.dropDuplicates()"
   ]
  },
  {
   "cell_type": "code",
   "execution_count": 5,
   "metadata": {},
   "outputs": [
    {
     "data": {
      "text/plain": [
       "58834819"
      ]
     },
     "execution_count": 5,
     "metadata": {},
     "output_type": "execute_result"
    }
   ],
   "source": [
    "df.count()"
   ]
  },
  {
   "cell_type": "markdown",
   "metadata": {},
   "source": [
    "Como se puede observar en el código de traducción del `csv` en `parquet`, hubo que forzar la conversión en todas las variables cuantitativas. Esto porque se detectaron algunas inconsistencias en ciertos registros. En particular, algunos precios, en vez de traer el monto, traían la leyenda `precio`. Al forzar la conversión, automáticamente los volvimos `nan` en el archivo `parquet`. Lo mismo ocurrió con `longitud`, `latitud` y `fechaRegistro`."
   ]
  },
  {
   "cell_type": "markdown",
   "metadata": {},
   "source": [
    "Para los outliers, podríamos usar la regla del [rango intercuartil](https://en.wikipedia.org/wiki/Interquartile_range). En nuestro caso, por simplicidad vamos a despreciar todo lo que esté más allá de 3 desviaciones estándar de la media."
   ]
  },
  {
   "cell_type": "code",
   "execution_count": 6,
   "metadata": {},
   "outputs": [],
   "source": [
    "import pyspark.sql.functions as F\n",
    "\n",
    "df_stats = df.select(\n",
    "    F.mean(F.col('precio')).alias('precio_mean'),\n",
    "    F.stddev(F.col('precio')).alias('precio_std'),\n",
    "    F.min(F.col('precio')).alias('precio_min'),\n",
    "    F.max(F.col('precio')).alias('precio_max'),\n",
    "    F.mean(F.col('latitud')).alias('latitud_mean'),\n",
    "    F.stddev(F.col('latitud')).alias('latitud_std'),\n",
    "    F.min(F.col('latitud')).alias('latitud_min'),\n",
    "    F.max(F.col('latitud')).alias('latitud_max'),\n",
    "    F.mean(F.col('longitud')).alias('longitud_mean'),\n",
    "    F.stddev(F.col('longitud')).alias('longitud_std'),\n",
    "    F.min(F.col('longitud')).alias('longitud_min'),\n",
    "    F.max(F.col('longitud')).alias('longitud_max'),\n",
    ").collect()[0]"
   ]
  },
  {
   "cell_type": "code",
   "execution_count": 7,
   "metadata": {},
   "outputs": [
    {
     "data": {
      "text/plain": [
       "Row(precio_mean=521.0713249850005, precio_std=2001.017809523212, precio_min=0.1, precio_max=299999.0, latitud_mean=23.814449363067286, latitud_std=270.1015986824846, latitud_min=0.0, latitud_max=28745.542, longitud_mean=-100.05063097301948, longitud_std=10.955574335990459, longitud_min=-1061.61231, longitud_max=115.47893700000002)"
      ]
     },
     "metadata": {},
     "output_type": "display_data"
    }
   ],
   "source": [
    "display(df_stats)"
   ]
  },
  {
   "cell_type": "code",
   "execution_count": 8,
   "metadata": {},
   "outputs": [],
   "source": [
    "filtered_df = df.filter(df['precio'] <= df_stats['precio_mean'] + 3 * df_stats['precio_std']) \\\n",
    "                .filter(df['latitud'] <= df_stats['latitud_mean'] + 3 * df_stats['latitud_std']) \\\n",
    "                .filter(df['latitud'] >= df_stats['latitud_mean'] - 3 * df_stats['latitud_std']) \\\n",
    "                .filter(df['longitud'] <= df_stats['longitud_mean'] + 3 * df_stats['longitud_std']) \\\n",
    "                .filter(df['longitud'] >= df_stats['longitud_mean'] - 3 * df_stats['longitud_std'])"
   ]
  },
  {
   "cell_type": "code",
   "execution_count": 54,
   "metadata": {},
   "outputs": [
    {
     "data": {
      "text/plain": [
       "57452976"
      ]
     },
     "metadata": {},
     "output_type": "display_data"
    }
   ],
   "source": [
    "display(filtered_df.count())"
   ]
  },
  {
   "cell_type": "markdown",
   "metadata": {},
   "source": [
    "Hemos eliminado duplicados, faltantes atípicos y algunos que identificamos como mal capturados."
   ]
  },
  {
   "cell_type": "markdown",
   "metadata": {},
   "source": [
    "### ¿Cuáles son los productos más monitoreados en cada entidad?"
   ]
  },
  {
   "cell_type": "code",
   "execution_count": 9,
   "metadata": {},
   "outputs": [],
   "source": [
    "prod_estado_df = filtered_df[['estado', 'producto']].groupby('estado','producto').count()"
   ]
  },
  {
   "cell_type": "code",
   "execution_count": 22,
   "metadata": {},
   "outputs": [],
   "source": [
    "from pyspark.sql.window import Window\n",
    "\n",
    "window = Window.partitionBy(\n",
    "    prod_estado_df['estado']\n",
    ").orderBy(\n",
    "    prod_estado_df['count'].desc()\n",
    ")\n",
    "\n",
    "top_prod_estado_df = prod_estado_df.select(\n",
    "    '*',\n",
    "    F.rank().over(window).alias('posicion')\n",
    ").filter(F.col('posicion') <= 5) \\\n",
    " .orderBy(F.col('estado'), F.col('count').desc())"
   ]
  },
  {
   "cell_type": "code",
   "execution_count": 27,
   "metadata": {},
   "outputs": [
    {
     "name": "stdout",
     "output_type": "stream",
     "text": [
      "+-------------------------------+-----------------------+------+--------+\n",
      "|estado                         |producto               |count |posicion|\n",
      "+-------------------------------+-----------------------+------+--------+\n",
      "|AGUASCALIENTES                 |FUD                    |10018 |1       |\n",
      "|AGUASCALIENTES                 |REFRESCO               |8073  |2       |\n",
      "|AGUASCALIENTES                 |LECHE ULTRAPASTEURIZADA|8009  |3       |\n",
      "|AGUASCALIENTES                 |DETERGENTE P/ROPA      |7941  |4       |\n",
      "|AGUASCALIENTES                 |SHAMPOO                |7719  |5       |\n",
      "|BAJA CALIFORNIA                |REFRESCO               |35360 |1       |\n",
      "|BAJA CALIFORNIA                |DETERGENTE P/ROPA      |21017 |2       |\n",
      "|BAJA CALIFORNIA                |FUD                    |18171 |3       |\n",
      "|BAJA CALIFORNIA                |SHAMPOO                |17477 |4       |\n",
      "|BAJA CALIFORNIA                |JABON DE TOCADOR       |16889 |5       |\n",
      "|BAJA CALIFORNIA SUR            |REFRESCO               |26290 |1       |\n",
      "|BAJA CALIFORNIA SUR            |FUD                    |16181 |2       |\n",
      "|BAJA CALIFORNIA SUR            |DETERGENTE P/ROPA      |13427 |3       |\n",
      "|BAJA CALIFORNIA SUR            |SHAMPOO                |11566 |4       |\n",
      "|BAJA CALIFORNIA SUR            |JABON DE TOCADOR       |11513 |5       |\n",
      "|CAMPECHE                       |FUD                    |12011 |1       |\n",
      "|CAMPECHE                       |REFRESCO               |10639 |2       |\n",
      "|CAMPECHE                       |LECHE ULTRAPASTEURIZADA|7656  |3       |\n",
      "|CAMPECHE                       |DETERGENTE P/ROPA      |7397  |4       |\n",
      "|CAMPECHE                       |JABON DE TOCADOR       |6882  |5       |\n",
      "|CHIAPAS                        |REFRESCO               |13776 |1       |\n",
      "|CHIAPAS                        |FUD                    |9726  |2       |\n",
      "|CHIAPAS                        |DETERGENTE P/ROPA      |8115  |3       |\n",
      "|CHIAPAS                        |CHILES EN LATA         |7372  |4       |\n",
      "|CHIAPAS                        |JABON DE TOCADOR       |7294  |5       |\n",
      "|CHIHUAHUA                      |DETERGENTE P/ROPA      |14333 |1       |\n",
      "|CHIHUAHUA                      |CHILES EN LATA         |13224 |2       |\n",
      "|CHIHUAHUA                      |FUD                    |13126 |3       |\n",
      "|CHIHUAHUA                      |SHAMPOO                |13000 |4       |\n",
      "|CHIHUAHUA                      |REFRESCO               |12574 |5       |\n",
      "|COAHUILA DE ZARAGOZA           |FUD                    |26720 |1       |\n",
      "|COAHUILA DE ZARAGOZA           |REFRESCO               |25414 |2       |\n",
      "|COAHUILA DE ZARAGOZA           |DETERGENTE P/ROPA      |24229 |3       |\n",
      "|COAHUILA DE ZARAGOZA           |SHAMPOO                |19711 |4       |\n",
      "|COAHUILA DE ZARAGOZA           |JABON DE TOCADOR       |18563 |5       |\n",
      "|COLIMA                         |DETERGENTE P/ROPA      |15145 |1       |\n",
      "|COLIMA                         |REFRESCO               |13010 |2       |\n",
      "|COLIMA                         |FUD                    |12598 |3       |\n",
      "|COLIMA                         |JABON DE TOCADOR       |11925 |4       |\n",
      "|COLIMA                         |CHILES EN LATA         |11856 |5       |\n",
      "|DISTRITO FEDERAL               |REFRESCO               |273393|1       |\n",
      "|DISTRITO FEDERAL               |FUD                    |195873|2       |\n",
      "|DISTRITO FEDERAL               |DETERGENTE P/ROPA      |160152|3       |\n",
      "|DISTRITO FEDERAL               |LECHE ULTRAPASTEURIZADA|150960|4       |\n",
      "|DISTRITO FEDERAL               |CERVEZA                |131378|5       |\n",
      "|DURANGO                        |DETERGENTE P/ROPA      |8612  |1       |\n",
      "|DURANGO                        |FUD                    |8157  |2       |\n",
      "|DURANGO                        |REFRESCO               |7959  |3       |\n",
      "|DURANGO                        |SHAMPOO                |7441  |4       |\n",
      "|DURANGO                        |PLANCHAS               |7326  |5       |\n",
      "|GUANAJUATO                     |REFRESCO               |47779 |1       |\n",
      "|GUANAJUATO                     |DETERGENTE P/ROPA      |34654 |2       |\n",
      "|GUANAJUATO                     |VARIOS                 |34505 |3       |\n",
      "|GUANAJUATO                     |FUD                    |31792 |4       |\n",
      "|GUANAJUATO                     |LECHE ULTRAPASTEURIZADA|27080 |5       |\n",
      "|GUERRERO                       |REFRESCO               |8328  |1       |\n",
      "|GUERRERO                       |FUD                    |8113  |2       |\n",
      "|GUERRERO                       |SHAMPOO                |5644  |3       |\n",
      "|GUERRERO                       |DETERGENTE P/ROPA      |5576  |4       |\n",
      "|GUERRERO                       |LECHE ULTRAPASTEURIZADA|5507  |5       |\n",
      "|HIDALGO                        |REFRESCO               |17473 |1       |\n",
      "|HIDALGO                        |DETERGENTE P/ROPA      |15219 |2       |\n",
      "|HIDALGO                        |PLANCHAS               |12129 |3       |\n",
      "|HIDALGO                        |SHAMPOO                |11713 |4       |\n",
      "|HIDALGO                        |CHILES EN LATA         |11425 |5       |\n",
      "|JALISCO                        |REFRESCO               |79595 |1       |\n",
      "|JALISCO                        |LECHE ULTRAPASTEURIZADA|72528 |2       |\n",
      "|JALISCO                        |DETERGENTE P/ROPA      |71027 |3       |\n",
      "|JALISCO                        |FUD                    |58742 |4       |\n",
      "|JALISCO                        |CHILES EN LATA         |54474 |5       |\n",
      "|MICHOACÁN DE OCAMPO            |DETERGENTE P/ROPA      |38610 |1       |\n",
      "|MICHOACÁN DE OCAMPO            |REFRESCO               |36685 |2       |\n",
      "|MICHOACÁN DE OCAMPO            |LECHE ULTRAPASTEURIZADA|25699 |3       |\n",
      "|MICHOACÁN DE OCAMPO            |CHILES EN LATA         |24284 |4       |\n",
      "|MICHOACÁN DE OCAMPO            |JABON DE TOCADOR       |23596 |5       |\n",
      "|MORELOS                        |REFRESCO               |8147  |1       |\n",
      "|MORELOS                        |FUD                    |5737  |2       |\n",
      "|MORELOS                        |DETERGENTE P/ROPA      |4518  |3       |\n",
      "|MORELOS                        |HORNO DE MICROONDAS    |4059  |4       |\n",
      "|MORELOS                        |SHAMPOO                |4049  |5       |\n",
      "|MÉXICO                         |REFRESCO               |184543|1       |\n",
      "|MÉXICO                         |FUD                    |139857|2       |\n",
      "|MÉXICO                         |DETERGENTE P/ROPA      |118152|3       |\n",
      "|MÉXICO                         |LECHE ULTRAPASTEURIZADA|105354|4       |\n",
      "|MÉXICO                         |YOGHURT                |90465 |5       |\n",
      "|NAYARIT                        |REFRESCO               |7409  |1       |\n",
      "|NAYARIT                        |FUD                    |5966  |2       |\n",
      "|NAYARIT                        |DETERGENTE P/ROPA      |4665  |3       |\n",
      "|NAYARIT                        |SHAMPOO                |4397  |4       |\n",
      "|NAYARIT                        |PLANCHAS               |4207  |5       |\n",
      "|NUEVO LEÓN                     |DETERGENTE P/ROPA      |48028 |1       |\n",
      "|NUEVO LEÓN                     |REFRESCO               |47749 |2       |\n",
      "|NUEVO LEÓN                     |CHILES EN LATA         |39366 |3       |\n",
      "|NUEVO LEÓN                     |SHAMPOO                |38197 |4       |\n",
      "|NUEVO LEÓN                     |LECHE ULTRAPASTEURIZADA|38051 |5       |\n",
      "|OAXACA                         |REFRESCO               |13946 |1       |\n",
      "|OAXACA                         |DETERGENTE P/ROPA      |13639 |2       |\n",
      "|OAXACA                         |FUD                    |13236 |3       |\n",
      "|OAXACA                         |CHILES EN LATA         |10691 |4       |\n",
      "|OAXACA                         |LECHE ULTRAPASTEURIZADA|10538 |5       |\n",
      "|PUEBLA                         |REFRESCO               |30431 |1       |\n",
      "|PUEBLA                         |DETERGENTE P/ROPA      |22733 |2       |\n",
      "|PUEBLA                         |FUD                    |19627 |3       |\n",
      "|PUEBLA                         |LECHE ULTRAPASTEURIZADA|18857 |4       |\n",
      "|PUEBLA                         |PLANCHAS               |18663 |5       |\n",
      "|QUERÉTARO                      |DETERGENTE P/ROPA      |25278 |1       |\n",
      "|QUERÉTARO                      |REFRESCO               |24372 |2       |\n",
      "|QUERÉTARO                      |JABON DE TOCADOR       |18632 |3       |\n",
      "|QUERÉTARO                      |LECHE ULTRAPASTEURIZADA|18584 |4       |\n",
      "|QUERÉTARO                      |FUD                    |18527 |5       |\n",
      "|QUINTANA ROO                   |FUD                    |32059 |1       |\n",
      "|QUINTANA ROO                   |REFRESCO               |31436 |2       |\n",
      "|QUINTANA ROO                   |DETERGENTE P/ROPA      |25831 |3       |\n",
      "|QUINTANA ROO                   |LECHE ULTRAPASTEURIZADA|25437 |4       |\n",
      "|QUINTANA ROO                   |PLANCHAS               |22356 |5       |\n",
      "|SAN LUIS POTOSÍ                |FUD                    |9317  |1       |\n",
      "|SAN LUIS POTOSÍ                |PLANCHAS               |6801  |2       |\n",
      "|SAN LUIS POTOSÍ                |LECHE ULTRAPASTEURIZADA|6741  |3       |\n",
      "|SAN LUIS POTOSÍ                |REFRESCO               |6343  |4       |\n",
      "|SAN LUIS POTOSÍ                |DETERGENTE P/ROPA      |6266  |5       |\n",
      "|SINALOA                        |REFRESCO               |30974 |1       |\n",
      "|SINALOA                        |DETERGENTE P/ROPA      |24894 |2       |\n",
      "|SINALOA                        |SHAMPOO                |20552 |3       |\n",
      "|SINALOA                        |JABON DE TOCADOR       |18499 |4       |\n",
      "|SINALOA                        |MAYONESA               |15700 |5       |\n",
      "|SONORA                         |REFRESCO               |30765 |1       |\n",
      "|SONORA                         |DETERGENTE P/ROPA      |28409 |2       |\n",
      "|SONORA                         |SHAMPOO                |22017 |3       |\n",
      "|SONORA                         |JABON DE TOCADOR       |20427 |4       |\n",
      "|SONORA                         |CHILES EN LATA         |19609 |5       |\n",
      "|TABASCO                        |REFRESCO               |27698 |1       |\n",
      "|TABASCO                        |DETERGENTE P/ROPA      |24873 |2       |\n",
      "|TABASCO                        |FUD                    |23797 |3       |\n",
      "|TABASCO                        |VARIOS                 |20799 |4       |\n",
      "|TABASCO                        |CHILES EN LATA         |20286 |5       |\n",
      "|TAMAULIPAS                     |REFRESCO               |19498 |1       |\n",
      "|TAMAULIPAS                     |FUD                    |18206 |2       |\n",
      "|TAMAULIPAS                     |DETERGENTE P/ROPA      |15826 |3       |\n",
      "|TAMAULIPAS                     |SHAMPOO                |15737 |4       |\n",
      "|TAMAULIPAS                     |DESODORANTE            |14205 |5       |\n",
      "|TLAXCALA                       |REFRESCO               |41422 |1       |\n",
      "|TLAXCALA                       |DETERGENTE P/ROPA      |39063 |2       |\n",
      "|TLAXCALA                       |JABON DE TOCADOR       |29273 |3       |\n",
      "|TLAXCALA                       |SHAMPOO                |28638 |4       |\n",
      "|TLAXCALA                       |LECHE ULTRAPASTEURIZADA|28309 |5       |\n",
      "|VERACRUZ DE IGNACIO DE LA LLAVE|REFRESCO               |13273 |1       |\n",
      "|VERACRUZ DE IGNACIO DE LA LLAVE|LECHE ULTRAPASTEURIZADA|9009  |2       |\n",
      "|VERACRUZ DE IGNACIO DE LA LLAVE|DETERGENTE P/ROPA      |8703  |3       |\n",
      "|VERACRUZ DE IGNACIO DE LA LLAVE|FUD                    |8540  |4       |\n",
      "|VERACRUZ DE IGNACIO DE LA LLAVE|DESODORANTE            |7639  |5       |\n",
      "|YUCATÁN                        |REFRESCO               |32029 |1       |\n",
      "|YUCATÁN                        |DETERGENTE P/ROPA      |31599 |2       |\n",
      "|YUCATÁN                        |FUD                    |30514 |3       |\n",
      "|YUCATÁN                        |LECHE ULTRAPASTEURIZADA|29792 |4       |\n",
      "|YUCATÁN                        |CHILES EN LATA         |23800 |5       |\n",
      "|ZACATECAS                      |DETERGENTE P/ROPA      |19739 |1       |\n",
      "|ZACATECAS                      |MAYONESA               |15142 |2       |\n",
      "|ZACATECAS                      |JABON DE TOCADOR       |15071 |3       |\n",
      "|ZACATECAS                      |FUD                    |14669 |4       |\n",
      "|ZACATECAS                      |LECHE ULTRAPASTEURIZADA|14576 |5       |\n",
      "+-------------------------------+-----------------------+------+--------+\n",
      "\n"
     ]
    }
   ],
   "source": [
    "top_prod_estado_df.show(160, truncate=False)"
   ]
  },
  {
   "cell_type": "markdown",
   "metadata": {},
   "source": [
    "### ¿Cuál es la cadena comercial con mayor variedad de productos monitoreados?"
   ]
  },
  {
   "cell_type": "code",
   "execution_count": 12,
   "metadata": {},
   "outputs": [],
   "source": [
    "categorias_cadena_df = filtered_df[\n",
    "    ['cadenaComercial', 'producto']\n",
    "].groupby('cadenaComercial') \\\n",
    " .agg(F.countDistinct('producto'))"
   ]
  },
  {
   "cell_type": "code",
   "execution_count": 15,
   "metadata": {},
   "outputs": [
    {
     "name": "stdout",
     "output_type": "stream",
     "text": [
      "+--------------------+---------------+\n",
      "|     cadenaComercial|count(producto)|\n",
      "+--------------------+---------------+\n",
      "|             SORIANA|           1046|\n",
      "|            WAL-MART|           1038|\n",
      "|MEGA COMERCIAL ME...|           1036|\n",
      "|  COMERCIAL MEXICANA|           1023|\n",
      "|            CHEDRAUI|           1013|\n",
      "|     MERCADO SORIANA|           1010|\n",
      "|      BODEGA AURRERA|            999|\n",
      "|HIPERMERCADO SORIANA|            993|\n",
      "|              H.E.B.|            988|\n",
      "|        SORIANA PLUS|            986|\n",
      "|       SORIANA SUPER|            983|\n",
      "|BODEGA COMERCIAL ...|            963|\n",
      "|        I.S.S.S.T.E.|            925|\n",
      "|            SUPERAMA|            923|\n",
      "|              S MART|            837|\n",
      "|         CITY MARKET|            834|\n",
      "|              SUMESA|            834|\n",
      "|SUPERMERCADOS SAN...|            828|\n",
      "|FARMACIA GUADALAJARA|            816|\n",
      "|           SUPER CHE|            793|\n",
      "+--------------------+---------------+\n",
      "only showing top 20 rows\n",
      "\n"
     ]
    }
   ],
   "source": [
    "categorias_cadena_df.orderBy(F.col('count(producto)').desc()).show()"
   ]
  },
  {
   "cell_type": "markdown",
   "metadata": {},
   "source": [
    "### Canasta de productos"
   ]
  },
  {
   "cell_type": "markdown",
   "metadata": {},
   "source": [
    "Vamos a ver qué productos son los más comunes."
   ]
  },
  {
   "cell_type": "code",
   "execution_count": 28,
   "metadata": {},
   "outputs": [
    {
     "name": "stdout",
     "output_type": "stream",
     "text": [
      "+--------------------+-------+\n",
      "|            producto|  count|\n",
      "+--------------------+-------+\n",
      "|            REFRESCO|1179612|\n",
      "|   DETERGENTE P/ROPA| 907670|\n",
      "|                 FUD| 871274|\n",
      "|LECHE ULTRAPASTEU...| 747721|\n",
      "|             SHAMPOO| 692376|\n",
      "|    JABON DE TOCADOR| 691742|\n",
      "|      CHILES EN LATA| 688398|\n",
      "|            MAYONESA| 652423|\n",
      "|             YOGHURT| 602275|\n",
      "|         DESODORANTE| 598409|\n",
      "|      LECHE EN POLVO| 557568|\n",
      "|     TOALLA FEMENINA| 554767|\n",
      "|             CERVEZA| 549081|\n",
      "|              ACEITE| 487860|\n",
      "|            PLANCHAS| 479827|\n",
      "|         PAN DE CAJA| 457382|\n",
      "|           MARGARINA| 452215|\n",
      "|        AGUA SIN GAS| 449198|\n",
      "|        CAFE SOLUBLE| 446580|\n",
      "| INSECTICIDA AEROSOL| 433974|\n",
      "+--------------------+-------+\n",
      "only showing top 20 rows\n",
      "\n"
     ]
    }
   ],
   "source": [
    "filtered_df[['producto']].groupBy('producto').count().orderBy(F.col('count').desc()).show()"
   ]
  },
  {
   "cell_type": "markdown",
   "metadata": {},
   "source": [
    "Y cuáles son los más vendidos por categoría."
   ]
  },
  {
   "cell_type": "code",
   "execution_count": 29,
   "metadata": {},
   "outputs": [],
   "source": [
    "prod_cat_df = filtered_df[['categoria', 'producto']].groupby('categoria','producto').count()\n",
    "\n",
    "window1 = Window.partitionBy(\n",
    "    prod_cat_df['categoria']\n",
    ").orderBy(\n",
    "    prod_cat_df['count'].desc()\n",
    ")\n",
    "\n",
    "top_prod_cat_df = prod_cat_df.select(\n",
    "    '*',\n",
    "    F.rank().over(window1).alias('posicion')\n",
    ").filter(F.col('posicion') <= 5) \\\n",
    " .orderBy(F.col('categoria'), F.col('count').desc())"
   ]
  },
  {
   "cell_type": "code",
   "execution_count": 30,
   "metadata": {},
   "outputs": [
    {
     "name": "stdout",
     "output_type": "stream",
     "text": [
      "+----------------------------------+----------------------------------------+-------+--------+\n",
      "|categoria                         |producto                                |count  |posicion|\n",
      "+----------------------------------+----------------------------------------+-------+--------+\n",
      "|ACCESORIOS DOMESTICOS             |PILAS ELECTRICAS                        |103261 |1       |\n",
      "|ACCESORIOS DOMESTICOS             |LAMPARA AHORRADORA                      |71600  |2       |\n",
      "|ACCESORIOS DOMESTICOS             |FOCO                                    |12096  |3       |\n",
      "|ACEITES Y GRASAS VEG. COMESTIBLES |ACEITE                                  |487860 |1       |\n",
      "|ACEITES Y GRASAS VEG. COMESTIBLES |MARGARINA                               |452215 |2       |\n",
      "|ACEITES Y GRASAS VEG. COMESTIBLES |GRASA COMESTIBLE                        |71367  |3       |\n",
      "|APARATOS ELECTRICOS               |PLANCHAS                                |479827 |1       |\n",
      "|APARATOS ELECTRICOS               |HORNO DE MICROONDAS                     |397120 |2       |\n",
      "|APARATOS ELECTRICOS               |LICUADORAS                              |346900 |3       |\n",
      "|APARATOS ELECTRICOS               |LAVADORAS                               |292814 |4       |\n",
      "|APARATOS ELECTRICOS               |EXTRACTORES DE JUGOS Y EXPRIMIDORES     |220432 |5       |\n",
      "|APARATOS ELECTRONICOS             |COMPONENTES DE AUDIO                    |358991 |1       |\n",
      "|APARATOS ELECTRONICOS             |DVD / BLU RAY                           |333195 |2       |\n",
      "|APARATOS ELECTRONICOS             |CAMARAS DIGITALES                       |270641 |3       |\n",
      "|APARATOS ELECTRONICOS             |SISTEMAS DE TEATRO EN CASA HOME THEATER |184970 |4       |\n",
      "|APARATOS ELECTRONICOS             |RADIOGRABADORAS                         |135938 |5       |\n",
      "|ARROZ Y CEREALES PREPARADOS       |CEREALES                                |383642 |1       |\n",
      "|ARROZ Y CEREALES PREPARADOS       |AVENA                                   |194758 |2       |\n",
      "|ARROZ Y CEREALES PREPARADOS       |ARROZ                                   |157626 |3       |\n",
      "|ARROZ Y CEREALES PREPARADOS       |HARINA DE ARROZ                         |94625  |4       |\n",
      "|ARROZ Y CEREALES PREPARADOS       |CORN FLAKES                             |51078  |5       |\n",
      "|ARTS. DE ESPARCIMIENTO (JUGUETES) |VARIOS                                  |357764 |1       |\n",
      "|ARTS. DE ESPARCIMIENTO (JUGUETES) |MUÑECAS                                 |224100 |2       |\n",
      "|ARTS. DE ESPARCIMIENTO (JUGUETES) |JUEGOS DE MESA                          |206998 |3       |\n",
      "|ARTS. DE ESPARCIMIENTO (JUGUETES) |MUÑECOS                                 |116056 |4       |\n",
      "|ARTS. DE ESPARCIMIENTO (JUGUETES) |JUGUETES (JUEGOS DE MESA)               |88019  |5       |\n",
      "|ARTS. DE PAPEL P/HIGIENE PERSONAL |TOALLA FEMENINA                         |554767 |1       |\n",
      "|ARTS. DE PAPEL P/HIGIENE PERSONAL |PAÑALES DESECHABLES                     |309557 |2       |\n",
      "|ARTS. DE PAPEL P/HIGIENE PERSONAL |PAPEL HIGIENICO                         |250269 |3       |\n",
      "|ARTS. DE PAPEL P/HIGIENE PERSONAL |TOALLITA HUMEDA LIMPIADORA              |201776 |4       |\n",
      "|ARTS. DE PAPEL P/HIGIENE PERSONAL |TOALLA DE PAPEL                         |188518 |5       |\n",
      "|ARTS. PARA EL CUIDADO PERSONAL    |SHAMPOO                                 |692376 |1       |\n",
      "|ARTS. PARA EL CUIDADO PERSONAL    |JABON DE TOCADOR                        |691742 |2       |\n",
      "|ARTS. PARA EL CUIDADO PERSONAL    |DESODORANTE                             |598409 |3       |\n",
      "|ARTS. PARA EL CUIDADO PERSONAL    |CREMA LIQUIDA                           |410579 |4       |\n",
      "|ARTS. PARA EL CUIDADO PERSONAL    |RASTRILLOS DESECHABLES                  |366211 |5       |\n",
      "|AZUCAR                            |AZUCAR                                  |85361  |1       |\n",
      "|CAFE                              |CAFE SOLUBLE                            |446580 |1       |\n",
      "|CAFE                              |CAFE TOSTADO Y MOLIDO                   |185274 |2       |\n",
      "|CARNE DE AVE                      |CARNE POLLO                             |148468 |1       |\n",
      "|CARNE DE AVE                      |PECHUGA DE POLLO                        |40727  |2       |\n",
      "|CARNE Y VISCERAS DE CERDO         |CARNE CERDO                             |225123 |1       |\n",
      "|CARNE Y VISCERAS DE CERDO         |MILANESA DE CERDO                       |51717  |2       |\n",
      "|CARNE Y VISCERAS DE CERDO         |PATA DE CERDO                           |51497  |3       |\n",
      "|CARNE Y VISCERAS DE CERDO         |CABEZA DE CERDO                         |43176  |4       |\n",
      "|CARNE Y VISCERAS DE CERDO         |CARNE MOLIDA DE CERDO                   |37449  |5       |\n",
      "|CARNE Y VISCERAS DE RES           |CARNE RES                               |402854 |1       |\n",
      "|CARNE Y VISCERAS DE RES           |PANZA DE RES                            |48404  |2       |\n",
      "|CARNE Y VISCERAS DE RES           |CHULETA DE RES/CHULETA COSTILLA/CHULETON|44075  |3       |\n",
      "|CARNE Y VISCERAS DE RES           |HIGADO DE RES                           |27996  |4       |\n",
      "|CARNE Y VISCERAS DE RES           |CARNE TERNERA                           |26938  |5       |\n",
      "|CARNES FRIAS SECAS Y EMBUTIDOS    |FUD                                     |723467 |1       |\n",
      "|CARNES FRIAS SECAS Y EMBUTIDOS    |KIR                                     |411094 |2       |\n",
      "|CARNES FRIAS SECAS Y EMBUTIDOS    |SAN RAFAEL                              |295411 |3       |\n",
      "|CARNES FRIAS SECAS Y EMBUTIDOS    |ZWAN                                    |221290 |4       |\n",
      "|CARNES FRIAS SECAS Y EMBUTIDOS    |ZWAN. PREMIUM                           |178679 |5       |\n",
      "|CERVEZA                           |CERVEZA                                 |549081 |1       |\n",
      "|CHOCOLATES Y GOLOSINAS            |POLVO P/BEBIDAS SABOR CHOCOLATE         |316872 |1       |\n",
      "|CHOCOLATES Y GOLOSINAS            |POLVO P/PREPARAR BEBIDAS                |272919 |2       |\n",
      "|CHOCOLATES Y GOLOSINAS            |GELATINA EN POLVO                       |211321 |3       |\n",
      "|CHOCOLATES Y GOLOSINAS            |FLAN                                    |178313 |4       |\n",
      "|CHOCOLATES Y GOLOSINAS            |CHOCOLATE EN TABLILLAS                  |104778 |5       |\n",
      "|CIGARRILLOS                       |CERILLOS                                |48741  |1       |\n",
      "|CONDIMENTOS                       |MAYONESA                                |652423 |1       |\n",
      "|CONDIMENTOS                       |SALSA PICANTE                           |268234 |2       |\n",
      "|CONDIMENTOS                       |CONCENTRADO DE POLLO                    |227878 |3       |\n",
      "|CONDIMENTOS                       |MOSTAZA                                 |225080 |4       |\n",
      "|CONDIMENTOS                       |VINAGRE                                 |207085 |5       |\n",
      "|DERIVADOS DE LECHE                |YOGHURT                                 |602275 |1       |\n",
      "|DERIVADOS DE LECHE                |CREMA                                   |375242 |2       |\n",
      "|DERIVADOS DE LECHE                |ESMERALDA                               |246503 |3       |\n",
      "|DERIVADOS DE LECHE                |LALA                                    |179931 |4       |\n",
      "|DERIVADOS DE LECHE                |MANTEQUILLA                             |170130 |5       |\n",
      "|DETERGENTES Y PRODUCTOS SIMILARES |DETERGENTE P/ROPA                       |907670 |1       |\n",
      "|DETERGENTES Y PRODUCTOS SIMILARES |INSECTICIDA AEROSOL                     |433974 |2       |\n",
      "|DETERGENTES Y PRODUCTOS SIMILARES |LIMPIADOR LIQUIDO P/PISO                |387302 |3       |\n",
      "|DETERGENTES Y PRODUCTOS SIMILARES |DETERGENTE P/TRASTES                    |362097 |4       |\n",
      "|DETERGENTES Y PRODUCTOS SIMILARES |SUAVIZANTE P/ROPA                       |273209 |5       |\n",
      "|FRUTAS FRESCAS                    |PLATANO                                 |115997 |1       |\n",
      "|FRUTAS FRESCAS                    |LIMON                                   |109804 |2       |\n",
      "|FRUTAS FRESCAS                    |MELON                                   |93236  |3       |\n",
      "|FRUTAS FRESCAS                    |UVA                                     |82379  |4       |\n",
      "|FRUTAS FRESCAS                    |MANZANA                                 |80785  |5       |\n",
      "|FRUTAS Y LEGUMBRES PROCESADAS     |CHILES EN LATA                          |688398 |1       |\n",
      "|FRUTAS Y LEGUMBRES PROCESADAS     |HORTALIZAS CONGELADAS                   |297131 |2       |\n",
      "|FRUTAS Y LEGUMBRES PROCESADAS     |MERMELADA                               |253736 |3       |\n",
      "|FRUTAS Y LEGUMBRES PROCESADAS     |PIÑA EN ALMIBAR                         |211497 |4       |\n",
      "|FRUTAS Y LEGUMBRES PROCESADAS     |CHICHAROS EN LATA                       |158158 |5       |\n",
      "|GALLETAS PASTAS Y HARINAS DE TRIGO|GALLETAS                                |432234 |1       |\n",
      "|GALLETAS PASTAS Y HARINAS DE TRIGO|HARINA HOT CAKES                        |243431 |2       |\n",
      "|GALLETAS PASTAS Y HARINAS DE TRIGO|PASTA PARA SOPA                         |203744 |3       |\n",
      "|GALLETAS PASTAS Y HARINAS DE TRIGO|HARINA DE TRIGO                         |202812 |4       |\n",
      "|GALLETAS PASTAS Y HARINAS DE TRIGO|GALLETAS DULCES                         |119586 |5       |\n",
      "|GRASAS ANIMALES COMESTIBLES       |MANTECA DE CERDO                        |41292  |1       |\n",
      "|HORTALIZAS FRESCAS                |CHILE FRESCO                            |220491 |1       |\n",
      "|HORTALIZAS FRESCAS                |ELOTE                                   |207131 |2       |\n",
      "|HORTALIZAS FRESCAS                |CEBOLLA                                 |122863 |3       |\n",
      "|HORTALIZAS FRESCAS                |JITOMATE                                |110979 |4       |\n",
      "|HORTALIZAS FRESCAS                |COL                                     |106562 |5       |\n",
      "|HUEVO                             |HUEVO                                   |364050 |1       |\n",
      "|LECHE PROCESADA                   |LECHE ULTRAPASTEURIZADA                 |747721 |1       |\n",
      "|LECHE PROCESADA                   |LECHE EN POLVO                          |557568 |2       |\n",
      "|LECHE PROCESADA                   |LECHE CONDENSADA                        |205457 |3       |\n",
      "|LECHE PROCESADA                   |LECHE PASTEURIZADA                      |182750 |4       |\n",
      "|LECHE PROCESADA                   |FORMULA LACTEA                          |122383 |5       |\n",
      "|LEGUMBRES SECAS                   |FRIJOL                                  |278062 |1       |\n",
      "|LEGUMBRES SECAS                   |LENTEJA                                 |99472  |2       |\n",
      "|LEGUMBRES SECAS                   |CHILE                                   |68364  |3       |\n",
      "|LEGUMBRES SECAS                   |GARBANZA                                |42057  |4       |\n",
      "|LEGUMBRES SECAS                   |CHILE SECO                              |32157  |5       |\n",
      "|MATERIAL ESCOLAR                  |COLOR LARGO                             |286212 |1       |\n",
      "|MATERIAL ESCOLAR                  |BOLIGRAFO                               |178129 |2       |\n",
      "|MATERIAL ESCOLAR                  |CUADERNO PROFESIONAL C/ESP.             |171868 |3       |\n",
      "|MATERIAL ESCOLAR                  |CRAYONES                                |154943 |4       |\n",
      "|MATERIAL ESCOLAR                  |LAPIZ ADHESIVO                          |147932 |5       |\n",
      "|MEDICAMENTOS                      |CIALIS                                  |96520  |1       |\n",
      "|MEDICAMENTOS                      |CELEBREX                                |94087  |2       |\n",
      "|MEDICAMENTOS                      |CELESTAMINE-NS                          |92344  |3       |\n",
      "|MEDICAMENTOS                      |MICARDIS                                |87584  |4       |\n",
      "|MEDICAMENTOS                      |LYRICA                                  |87054  |5       |\n",
      "|MUEBLES DE COCINA                 |ESTUFAS                                 |196988 |1       |\n",
      "|PAN                               |PAN DE CAJA                             |457382 |1       |\n",
      "|PAN                               |PASTELILLOS                             |170645 |2       |\n",
      "|PAN                               |PAN BLANCO BOLILLO                      |61506  |3       |\n",
      "|PESCADOS Y MARISCOS               |CAMARON                                 |40150  |1       |\n",
      "|PESCADOS Y MARISCOS               |CALAMAR                                 |30525  |2       |\n",
      "|PESCADOS Y MARISCOS               |MOJARRA                                 |29675  |3       |\n",
      "|PESCADOS Y MARISCOS               |SALMON                                  |16795  |4       |\n",
      "|PESCADOS Y MARISCOS               |PULPO                                   |16452  |5       |\n",
      "|PESCADOS Y MARISCOS EN CONSERVA   |ATUN                                    |411488 |1       |\n",
      "|PESCADOS Y MARISCOS EN CONSERVA   |SARDINA                                 |112071 |2       |\n",
      "|PESCADOS Y MARISCOS EN CONSERVA   |CHARAL                                  |1893   |3       |\n",
      "|PRODUCTOS DE TEMPORADA (NAVIDEÐOS)|ACEITE DE OLIVA                         |193872 |1       |\n",
      "|PRODUCTOS DE TEMPORADA (NAVIDEÐOS)|ACEITUNA                                |140799 |2       |\n",
      "|PRODUCTOS DE TEMPORADA (NAVIDEÐOS)|JICAMA                                  |60569  |3       |\n",
      "|PRODUCTOS DE TEMPORADA (NAVIDEÐOS)|CANELA                                  |56872  |4       |\n",
      "|PRODUCTOS DE TEMPORADA (NAVIDEÐOS)|ALMENDRAS                               |44099  |5       |\n",
      "|REFRESCOS ENVASADOS               |REFRESCO                                |1179612|1       |\n",
      "|REFRESCOS ENVASADOS               |AGUA SIN GAS                            |449198 |2       |\n",
      "|REFRESCOS ENVASADOS               |JUGO DE FRUTA                           |358118 |3       |\n",
      "|REFRESCOS ENVASADOS               |AGUA CON GAS                            |162876 |4       |\n",
      "|REFRESCOS ENVASADOS               |BEBIDAS HIDRATANTES                     |162134 |5       |\n",
      "|TE                                |TE                                      |48911  |1       |\n",
      "|TORTILLAS Y DERIVADOS DEL MAIZ    |TORTILLA DE MAIZ                        |175910 |1       |\n",
      "|TORTILLAS Y DERIVADOS DEL MAIZ    |TORTILLA DE HARINA DE TRIGO             |154644 |2       |\n",
      "|TORTILLAS Y DERIVADOS DEL MAIZ    |TOSTADAS DE MAÍZ                        |87048  |3       |\n",
      "|TORTILLAS Y DERIVADOS DEL MAIZ    |HARINA DE MAIZ                          |83065  |4       |\n",
      "|TORTILLAS Y DERIVADOS DEL MAIZ    |MAIZ POZOLERO                           |74290  |5       |\n",
      "|UTENSILIOS DOMESTICOS             |OLLA DE PRESION EXPRESS                 |92465  |1       |\n",
      "|VINOS Y LICORES                   |TEQUILA                                 |140671 |1       |\n",
      "|VINOS Y LICORES                   |VINO DE MESA                            |139173 |2       |\n",
      "|VINOS Y LICORES                   |BRANDY                                  |18514  |3       |\n",
      "|VINOS Y LICORES                   |RON                                     |17989  |4       |\n",
      "|VINOS Y LICORES                   |WHISKY                                  |17312  |5       |\n",
      "+----------------------------------+----------------------------------------+-------+--------+\n",
      "\n"
     ]
    }
   ],
   "source": [
    "top_prod_cat_df.show(220, truncate=False)"
   ]
  },
  {
   "cell_type": "code",
   "execution_count": 32,
   "metadata": {},
   "outputs": [],
   "source": [
    "estados_producto_df = filtered_df[\n",
    "    ['producto', 'estado']\n",
    "].groupBy('producto').agg(F.countDistinct('estado'))"
   ]
  },
  {
   "cell_type": "code",
   "execution_count": 56,
   "metadata": {},
   "outputs": [],
   "source": [
    "estados_top_producto_df = top_prod_cat_df.join(\n",
    "    estados_producto_df,\n",
    "    top_prod_cat_df.producto == estados_producto_df.producto\n",
    ")"
   ]
  },
  {
   "cell_type": "code",
   "execution_count": 36,
   "metadata": {},
   "outputs": [
    {
     "name": "stdout",
     "output_type": "stream",
     "text": [
      "+--------------------+--------------------+-------+--------+--------------------+-------------+\n",
      "|           categoria|            producto|  count|posicion|            producto|count(estado)|\n",
      "+--------------------+--------------------+-------+--------+--------------------+-------------+\n",
      "|ARTS. DE ESPARCIM...|              VARIOS| 357764|       1|              VARIOS|           32|\n",
      "|     LEGUMBRES SECAS|            GARBANZA|  42057|       4|            GARBANZA|           32|\n",
      "|                CAFE|CAFE TOSTADO Y MO...| 185274|       2|CAFE TOSTADO Y MO...|           32|\n",
      "|   MUEBLES DE COCINA|             ESTUFAS| 196988|       1|             ESTUFAS|           32|\n",
      "|CHOCOLATES Y GOLO...|                FLAN| 178313|       4|                FLAN|           32|\n",
      "|  HORTALIZAS FRESCAS|             CEBOLLA| 122863|       3|             CEBOLLA|           32|\n",
      "|     LEGUMBRES SECAS|          CHILE SECO|  32157|       5|          CHILE SECO|           32|\n",
      "|     VINOS Y LICORES|              BRANDY|  18514|       3|              BRANDY|           32|\n",
      "| REFRESCOS ENVASADOS|        AGUA SIN GAS| 449198|       2|        AGUA SIN GAS|           32|\n",
      "|ARROZ Y CEREALES ...|               AVENA| 194758|       2|               AVENA|           32|\n",
      "|CARNE Y VISCERAS ...|     CABEZA DE CERDO|  43176|       4|     CABEZA DE CERDO|           32|\n",
      "|TORTILLAS Y DERIV...|       MAIZ POZOLERO|  74290|       5|       MAIZ POZOLERO|           32|\n",
      "|         CONDIMENTOS|       SALSA PICANTE| 268234|       2|       SALSA PICANTE|           32|\n",
      "|        MEDICAMENTOS|            CELEBREX|  94087|       2|            CELEBREX|           32|\n",
      "|PRODUCTOS DE TEMP...|              JICAMA|  60569|       3|              JICAMA|           32|\n",
      "|CARNE Y VISCERAS ...|       PATA DE CERDO|  51497|       3|       PATA DE CERDO|           32|\n",
      "|      FRUTAS FRESCAS|               LIMON| 109804|       2|               LIMON|           32|\n",
      "|CARNE Y VISCERAS ...|   MILANESA DE CERDO|  51717|       2|   MILANESA DE CERDO|           32|\n",
      "|ARTS. DE ESPARCIM...|             MUÑECOS| 116056|       4|             MUÑECOS|           32|\n",
      "|GALLETAS PASTAS Y...|            GALLETAS| 432234|       1|            GALLETAS|           32|\n",
      "|APARATOS ELECTRON...|SISTEMAS DE TEATR...| 184970|       4|SISTEMAS DE TEATR...|           32|\n",
      "|     LECHE PROCESADA|  LECHE PASTEURIZADA| 182750|       4|  LECHE PASTEURIZADA|           30|\n",
      "|     LECHE PROCESADA|LECHE ULTRAPASTEU...| 747721|       1|LECHE ULTRAPASTEU...|           32|\n",
      "|FRUTAS Y LEGUMBRE...|     PIÑA EN ALMIBAR| 211497|       4|     PIÑA EN ALMIBAR|           32|\n",
      "| PESCADOS Y MARISCOS|               PULPO|  16452|       5|               PULPO|           32|\n",
      "|ARTS. DE PAPEL P/...|     PAPEL HIGIENICO| 250269|       3|     PAPEL HIGIENICO|           32|\n",
      "|CARNE Y VISCERAS ...|         CARNE CERDO| 225123|       1|         CARNE CERDO|           32|\n",
      "|        CARNE DE AVE|         CARNE POLLO| 148468|       1|         CARNE POLLO|           32|\n",
      "| PESCADOS Y MARISCOS|             CAMARON|  40150|       1|             CAMARON|           32|\n",
      "|PRODUCTOS DE TEMP...|            ACEITUNA| 140799|       2|            ACEITUNA|           32|\n",
      "|                CAFE|        CAFE SOLUBLE| 446580|       1|        CAFE SOLUBLE|           32|\n",
      "|        MEDICAMENTOS|              CIALIS|  96520|       1|              CIALIS|           32|\n",
      "|CARNES FRIAS SECA...|                 FUD| 723467|       1|                 FUD|           32|\n",
      "|CARNE Y VISCERAS ...|CARNE MOLIDA DE C...|  37449|       5|CARNE MOLIDA DE C...|           32|\n",
      "|     VINOS Y LICORES|             TEQUILA| 140671|       1|             TEQUILA|           32|\n",
      "|CARNE Y VISCERAS ...|       HIGADO DE RES|  27996|       4|       HIGADO DE RES|           32|\n",
      "|ARTS. PARA EL CUI...|             SHAMPOO| 692376|       1|             SHAMPOO|           32|\n",
      "|ARTS. DE PAPEL P/...|     TOALLA FEMENINA| 554767|       1|     TOALLA FEMENINA|           32|\n",
      "|CHOCOLATES Y GOLO...|POLVO P/BEBIDAS S...| 316872|       1|POLVO P/BEBIDAS S...|           32|\n",
      "| REFRESCOS ENVASADOS|            REFRESCO|1179612|       1|            REFRESCO|           32|\n",
      "|  HORTALIZAS FRESCAS|        CHILE FRESCO| 220491|       1|        CHILE FRESCO|           32|\n",
      "|GALLETAS PASTAS Y...|    HARINA HOT CAKES| 243431|       2|    HARINA HOT CAKES|           32|\n",
      "|  DERIVADOS DE LECHE|                LALA| 179931|       4|                LALA|           32|\n",
      "|CARNES FRIAS SECA...|       ZWAN. PREMIUM| 178679|       5|       ZWAN. PREMIUM|           32|\n",
      "| REFRESCOS ENVASADOS|       JUGO DE FRUTA| 358118|       3|       JUGO DE FRUTA|           32|\n",
      "|GALLETAS PASTAS Y...|     GALLETAS DULCES| 119586|       5|     GALLETAS DULCES|           32|\n",
      "| APARATOS ELECTRICOS|          LICUADORAS| 346900|       3|          LICUADORAS|           32|\n",
      "|FRUTAS Y LEGUMBRE...|   CHICHAROS EN LATA| 158158|       5|   CHICHAROS EN LATA|           32|\n",
      "|ACEITES Y GRASAS ...|    GRASA COMESTIBLE|  71367|       3|    GRASA COMESTIBLE|           32|\n",
      "|ARTS. DE PAPEL P/...| PAÑALES DESECHABLES| 309557|       2| PAÑALES DESECHABLES|           32|\n",
      "| PESCADOS Y MARISCOS|             CALAMAR|  30525|       2|             CALAMAR|           32|\n",
      "|     LEGUMBRES SECAS|              FRIJOL| 278062|       1|              FRIJOL|           32|\n",
      "|PESCADOS Y MARISC...|                ATUN| 411488|       1|                ATUN|           32|\n",
      "|    MATERIAL ESCOLAR|      LAPIZ ADHESIVO| 147932|       5|      LAPIZ ADHESIVO|           32|\n",
      "|    MATERIAL ESCOLAR|           BOLIGRAFO| 178129|       2|           BOLIGRAFO|           32|\n",
      "|ARTS. PARA EL CUI...|    JABON DE TOCADOR| 691742|       2|    JABON DE TOCADOR|           32|\n",
      "| PESCADOS Y MARISCOS|             MOJARRA|  29675|       3|             MOJARRA|           32|\n",
      "|DETERGENTES Y PRO...| INSECTICIDA AEROSOL| 433974|       2| INSECTICIDA AEROSOL|           32|\n",
      "| REFRESCOS ENVASADOS| BEBIDAS HIDRATANTES| 162134|       5| BEBIDAS HIDRATANTES|           32|\n",
      "|CARNES FRIAS SECA...|                ZWAN| 221290|       4|                ZWAN|           32|\n",
      "|PESCADOS Y MARISC...|             SARDINA| 112071|       2|             SARDINA|           32|\n",
      "|ARTS. DE PAPEL P/...|TOALLITA HUMEDA L...| 201776|       4|TOALLITA HUMEDA L...|           32|\n",
      "|ARROZ Y CEREALES ...|            CEREALES| 383642|       1|            CEREALES|           32|\n",
      "|DETERGENTES Y PRO...|   DETERGENTE P/ROPA| 907670|       1|   DETERGENTE P/ROPA|           32|\n",
      "|ACCESORIOS DOMEST...|    PILAS ELECTRICAS| 103261|       1|    PILAS ELECTRICAS|           31|\n",
      "|ACCESORIOS DOMEST...|  LAMPARA AHORRADORA|  71600|       2|  LAMPARA AHORRADORA|           32|\n",
      "|ARROZ Y CEREALES ...|     HARINA DE ARROZ|  94625|       4|     HARINA DE ARROZ|           32|\n",
      "|         CONDIMENTOS|             VINAGRE| 207085|       5|             VINAGRE|           32|\n",
      "|ACEITES Y GRASAS ...|           MARGARINA| 452215|       2|           MARGARINA|           32|\n",
      "|TORTILLAS Y DERIV...|    TORTILLA DE MAIZ| 175910|       1|    TORTILLA DE MAIZ|           32|\n",
      "|  HORTALIZAS FRESCAS|            JITOMATE| 110979|       4|            JITOMATE|           32|\n",
      "|PRODUCTOS DE TEMP...|           ALMENDRAS|  44099|       5|           ALMENDRAS|           32|\n",
      "|     VINOS Y LICORES|        VINO DE MESA| 139173|       2|        VINO DE MESA|           31|\n",
      "|ARROZ Y CEREALES ...|         CORN FLAKES|  51078|       5|         CORN FLAKES|           22|\n",
      "| APARATOS ELECTRICOS| HORNO DE MICROONDAS| 397120|       2| HORNO DE MICROONDAS|           32|\n",
      "|PRODUCTOS DE TEMP...|     ACEITE DE OLIVA| 193872|       1|     ACEITE DE OLIVA|           32|\n",
      "|     LECHE PROCESADA|      LECHE EN POLVO| 557568|       2|      LECHE EN POLVO|           32|\n",
      "|ARTS. PARA EL CUI...|         DESODORANTE| 598409|       3|         DESODORANTE|           32|\n",
      "|ARTS. DE PAPEL P/...|     TOALLA DE PAPEL| 188518|       5|     TOALLA DE PAPEL|           32|\n",
      "| APARATOS ELECTRICOS|EXTRACTORES DE JU...| 220432|       5|EXTRACTORES DE JU...|           32|\n",
      "| PESCADOS Y MARISCOS|              SALMON|  16795|       4|              SALMON|           32|\n",
      "|    MATERIAL ESCOLAR|CUADERNO PROFESIO...| 171868|       3|CUADERNO PROFESIO...|           32|\n",
      "|        CARNE DE AVE|    PECHUGA DE POLLO|  40727|       2|    PECHUGA DE POLLO|           32|\n",
      "|         CONDIMENTOS|             MOSTAZA| 225080|       4|             MOSTAZA|           32|\n",
      "|PESCADOS Y MARISC...|              CHARAL|   1893|       3|              CHARAL|           30|\n",
      "|     VINOS Y LICORES|                 RON|  17989|       4|                 RON|           32|\n",
      "|             CERVEZA|             CERVEZA| 549081|       1|             CERVEZA|           32|\n",
      "|  DERIVADOS DE LECHE|             YOGHURT| 602275|       1|             YOGHURT|           32|\n",
      "|                 PAN|         PASTELILLOS| 170645|       2|         PASTELILLOS|           32|\n",
      "|         CONDIMENTOS|CONCENTRADO DE POLLO| 227878|       3|CONCENTRADO DE POLLO|           32|\n",
      "|  DERIVADOS DE LECHE|               CREMA| 375242|       2|               CREMA|           32|\n",
      "|     LEGUMBRES SECAS|             LENTEJA|  99472|       2|             LENTEJA|           32|\n",
      "|TORTILLAS Y DERIV...|TORTILLA DE HARIN...| 154644|       2|TORTILLA DE HARIN...|           32|\n",
      "|                  TE|                  TE|  48911|       1|                  TE|           32|\n",
      "|CHOCOLATES Y GOLO...|POLVO P/PREPARAR ...| 272919|       2|POLVO P/PREPARAR ...|           32|\n",
      "|APARATOS ELECTRON...|   CAMARAS DIGITALES| 270641|       3|   CAMARAS DIGITALES|           32|\n",
      "|        MEDICAMENTOS|      CELESTAMINE-NS|  92344|       3|      CELESTAMINE-NS|           32|\n",
      "|APARATOS ELECTRON...|COMPONENTES DE AUDIO| 358991|       1|COMPONENTES DE AUDIO|           32|\n",
      "|DETERGENTES Y PRO...|DETERGENTE P/TRASTES| 362097|       4|DETERGENTE P/TRASTES|           32|\n",
      "|UTENSILIOS DOMEST...|OLLA DE PRESION E...|  92465|       1|OLLA DE PRESION E...|           32|\n",
      "|      FRUTAS FRESCAS|               MELON|  93236|       3|               MELON|           32|\n",
      "|TORTILLAS Y DERIV...|    TOSTADAS DE MAÍZ|  87048|       3|    TOSTADAS DE MAÍZ|           32|\n",
      "|    MATERIAL ESCOLAR|         COLOR LARGO| 286212|       1|         COLOR LARGO|           32|\n",
      "|TORTILLAS Y DERIV...|      HARINA DE MAIZ|  83065|       4|      HARINA DE MAIZ|           32|\n",
      "|CARNE Y VISCERAS ...|           CARNE RES| 402854|       1|           CARNE RES|           32|\n",
      "| APARATOS ELECTRICOS|           LAVADORAS| 292814|       4|           LAVADORAS|           32|\n",
      "|  HORTALIZAS FRESCAS|                 COL| 106562|       5|                 COL|           32|\n",
      "|CARNES FRIAS SECA...|                 KIR| 411094|       2|                 KIR|           32|\n",
      "|ARTS. PARA EL CUI...|       CREMA LIQUIDA| 410579|       4|       CREMA LIQUIDA|           32|\n",
      "|  HORTALIZAS FRESCAS|               ELOTE| 207131|       2|               ELOTE|           32|\n",
      "|APARATOS ELECTRON...|       DVD / BLU RAY| 333195|       2|       DVD / BLU RAY|           32|\n",
      "|ACCESORIOS DOMEST...|                FOCO|  12096|       3|                FOCO|           22|\n",
      "|APARATOS ELECTRON...|     RADIOGRABADORAS| 135938|       5|     RADIOGRABADORAS|           32|\n",
      "|CHOCOLATES Y GOLO...|CHOCOLATE EN TABL...| 104778|       5|CHOCOLATE EN TABL...|           32|\n",
      "|CHOCOLATES Y GOLO...|   GELATINA EN POLVO| 211321|       3|   GELATINA EN POLVO|           32|\n",
      "|  DERIVADOS DE LECHE|         MANTEQUILLA| 170130|       5|         MANTEQUILLA|           32|\n",
      "|FRUTAS Y LEGUMBRE...|      CHILES EN LATA| 688398|       1|      CHILES EN LATA|           32|\n",
      "|  DERIVADOS DE LECHE|           ESMERALDA| 246503|       3|           ESMERALDA|           32|\n",
      "|FRUTAS Y LEGUMBRE...|HORTALIZAS CONGEL...| 297131|       2|HORTALIZAS CONGEL...|           32|\n",
      "|      FRUTAS FRESCAS|                 UVA|  82379|       4|                 UVA|           32|\n",
      "|    MATERIAL ESCOLAR|            CRAYONES| 154943|       4|            CRAYONES|           32|\n",
      "|                 PAN|         PAN DE CAJA| 457382|       1|         PAN DE CAJA|           32|\n",
      "|GALLETAS PASTAS Y...|     PASTA PARA SOPA| 203744|       3|     PASTA PARA SOPA|           32|\n",
      "|ARTS. PARA EL CUI...|RASTRILLOS DESECH...| 366211|       5|RASTRILLOS DESECH...|           32|\n",
      "|        MEDICAMENTOS|            MICARDIS|  87584|       4|            MICARDIS|           32|\n",
      "|CARNES FRIAS SECA...|          SAN RAFAEL| 295411|       3|          SAN RAFAEL|           32|\n",
      "|PRODUCTOS DE TEMP...|              CANELA|  56872|       4|              CANELA|           32|\n",
      "|     LEGUMBRES SECAS|               CHILE|  68364|       3|               CHILE|           32|\n",
      "|ARROZ Y CEREALES ...|               ARROZ| 157626|       3|               ARROZ|           32|\n",
      "| APARATOS ELECTRICOS|            PLANCHAS| 479827|       1|            PLANCHAS|           32|\n",
      "|ARTS. DE ESPARCIM...|JUGUETES (JUEGOS ...|  88019|       5|JUGUETES (JUEGOS ...|           21|\n",
      "|ARTS. DE ESPARCIM...|             MUÑECAS| 224100|       2|             MUÑECAS|           32|\n",
      "|GALLETAS PASTAS Y...|     HARINA DE TRIGO| 202812|       4|     HARINA DE TRIGO|           32|\n",
      "|FRUTAS Y LEGUMBRE...|           MERMELADA| 253736|       3|           MERMELADA|           32|\n",
      "|CARNE Y VISCERAS ...|CHULETA DE RES/CH...|  44075|       3|CHULETA DE RES/CH...|           32|\n",
      "|      FRUTAS FRESCAS|             PLATANO| 115997|       1|             PLATANO|           32|\n",
      "|CARNE Y VISCERAS ...|       CARNE TERNERA|  26938|       5|       CARNE TERNERA|           32|\n",
      "|         CIGARRILLOS|            CERILLOS|  48741|       1|            CERILLOS|           32|\n",
      "| REFRESCOS ENVASADOS|        AGUA CON GAS| 162876|       4|        AGUA CON GAS|           32|\n",
      "|     LECHE PROCESADA|    LECHE CONDENSADA| 205457|       3|    LECHE CONDENSADA|           32|\n",
      "|ACEITES Y GRASAS ...|              ACEITE| 487860|       1|              ACEITE|           32|\n",
      "|         CONDIMENTOS|            MAYONESA| 652423|       1|            MAYONESA|           32|\n",
      "|     VINOS Y LICORES|              WHISKY|  17312|       5|              WHISKY|           32|\n",
      "|      FRUTAS FRESCAS|             MANZANA|  80785|       5|             MANZANA|           32|\n",
      "|     LECHE PROCESADA|      FORMULA LACTEA| 122383|       5|      FORMULA LACTEA|           32|\n",
      "|                 PAN|  PAN BLANCO BOLILLO|  61506|       3|  PAN BLANCO BOLILLO|           32|\n",
      "|               HUEVO|               HUEVO| 364050|       1|               HUEVO|           32|\n",
      "|CARNE Y VISCERAS ...|        PANZA DE RES|  48404|       2|        PANZA DE RES|           32|\n",
      "|        MEDICAMENTOS|              LYRICA|  87054|       5|              LYRICA|           32|\n",
      "|              AZUCAR|              AZUCAR|  85361|       1|              AZUCAR|           32|\n",
      "|DETERGENTES Y PRO...|LIMPIADOR LIQUIDO...| 387302|       3|LIMPIADOR LIQUIDO...|           32|\n",
      "|DETERGENTES Y PRO...|   SUAVIZANTE P/ROPA| 273209|       5|   SUAVIZANTE P/ROPA|           32|\n",
      "|GRASAS ANIMALES C...|    MANTECA DE CERDO|  41292|       1|    MANTECA DE CERDO|           32|\n",
      "|ARTS. DE ESPARCIM...|      JUEGOS DE MESA| 206998|       3|      JUEGOS DE MESA|           32|\n",
      "+--------------------+--------------------+-------+--------+--------------------+-------------+\n",
      "\n"
     ]
    }
   ],
   "source": [
    "estados_top_producto_df.show(220)"
   ]
  },
  {
   "cell_type": "markdown",
   "metadata": {},
   "source": [
    "Así, vamos a escoger la canasta de productos como los top 5 por estado que existen en todos los estados."
   ]
  },
  {
   "cell_type": "code",
   "execution_count": 60,
   "metadata": {},
   "outputs": [],
   "source": [
    "canasta_df = estados_top_producto_df.select(\n",
    "    top_prod_cat_df['producto']\n",
    ").filter(\n",
    "        estados_top_producto_df['count(estado)'] == 32\n",
    ").filter(top_prod_cat_df['producto'] != 'VARIOS')"
   ]
  },
  {
   "cell_type": "code",
   "execution_count": 59,
   "metadata": {},
   "outputs": [
    {
     "name": "stdout",
     "output_type": "stream",
     "text": [
      "+--------------------+\n",
      "|            producto|\n",
      "+--------------------+\n",
      "|              VARIOS|\n",
      "|            GARBANZA|\n",
      "|CAFE TOSTADO Y MO...|\n",
      "|             ESTUFAS|\n",
      "|                FLAN|\n",
      "|             CEBOLLA|\n",
      "|          CHILE SECO|\n",
      "|              BRANDY|\n",
      "|        AGUA SIN GAS|\n",
      "|               AVENA|\n",
      "|     CABEZA DE CERDO|\n",
      "|       MAIZ POZOLERO|\n",
      "|       SALSA PICANTE|\n",
      "|            CELEBREX|\n",
      "|              JICAMA|\n",
      "|       PATA DE CERDO|\n",
      "|               LIMON|\n",
      "|   MILANESA DE CERDO|\n",
      "|             MUÑECOS|\n",
      "|            GALLETAS|\n",
      "|SISTEMAS DE TEATR...|\n",
      "|LECHE ULTRAPASTEU...|\n",
      "|     PIÑA EN ALMIBAR|\n",
      "|               PULPO|\n",
      "|     PAPEL HIGIENICO|\n",
      "|         CARNE CERDO|\n",
      "|         CARNE POLLO|\n",
      "|             CAMARON|\n",
      "|            ACEITUNA|\n",
      "|        CAFE SOLUBLE|\n",
      "|              CIALIS|\n",
      "|                 FUD|\n",
      "|CARNE MOLIDA DE C...|\n",
      "|             TEQUILA|\n",
      "|       HIGADO DE RES|\n",
      "|             SHAMPOO|\n",
      "|     TOALLA FEMENINA|\n",
      "|POLVO P/BEBIDAS S...|\n",
      "|            REFRESCO|\n",
      "|        CHILE FRESCO|\n",
      "|    HARINA HOT CAKES|\n",
      "|                LALA|\n",
      "|       ZWAN. PREMIUM|\n",
      "|       JUGO DE FRUTA|\n",
      "|     GALLETAS DULCES|\n",
      "|          LICUADORAS|\n",
      "|   CHICHAROS EN LATA|\n",
      "|    GRASA COMESTIBLE|\n",
      "| PAÑALES DESECHABLES|\n",
      "|             CALAMAR|\n",
      "|              FRIJOL|\n",
      "|                ATUN|\n",
      "|      LAPIZ ADHESIVO|\n",
      "|           BOLIGRAFO|\n",
      "|    JABON DE TOCADOR|\n",
      "|             MOJARRA|\n",
      "| INSECTICIDA AEROSOL|\n",
      "| BEBIDAS HIDRATANTES|\n",
      "|                ZWAN|\n",
      "|             SARDINA|\n",
      "|TOALLITA HUMEDA L...|\n",
      "|            CEREALES|\n",
      "|   DETERGENTE P/ROPA|\n",
      "|  LAMPARA AHORRADORA|\n",
      "|     HARINA DE ARROZ|\n",
      "|             VINAGRE|\n",
      "|           MARGARINA|\n",
      "|    TORTILLA DE MAIZ|\n",
      "|            JITOMATE|\n",
      "|           ALMENDRAS|\n",
      "| HORNO DE MICROONDAS|\n",
      "|     ACEITE DE OLIVA|\n",
      "|      LECHE EN POLVO|\n",
      "|         DESODORANTE|\n",
      "|     TOALLA DE PAPEL|\n",
      "|EXTRACTORES DE JU...|\n",
      "|              SALMON|\n",
      "|CUADERNO PROFESIO...|\n",
      "|    PECHUGA DE POLLO|\n",
      "|             MOSTAZA|\n",
      "|                 RON|\n",
      "|             CERVEZA|\n",
      "|             YOGHURT|\n",
      "|         PASTELILLOS|\n",
      "|CONCENTRADO DE POLLO|\n",
      "|               CREMA|\n",
      "|             LENTEJA|\n",
      "|TORTILLA DE HARIN...|\n",
      "|                  TE|\n",
      "|POLVO P/PREPARAR ...|\n",
      "|   CAMARAS DIGITALES|\n",
      "|      CELESTAMINE-NS|\n",
      "|COMPONENTES DE AUDIO|\n",
      "|DETERGENTE P/TRASTES|\n",
      "|OLLA DE PRESION E...|\n",
      "|               MELON|\n",
      "|    TOSTADAS DE MAÍZ|\n",
      "|         COLOR LARGO|\n",
      "|      HARINA DE MAIZ|\n",
      "|           CARNE RES|\n",
      "|           LAVADORAS|\n",
      "|                 COL|\n",
      "|                 KIR|\n",
      "|       CREMA LIQUIDA|\n",
      "|               ELOTE|\n",
      "|       DVD / BLU RAY|\n",
      "|     RADIOGRABADORAS|\n",
      "|CHOCOLATE EN TABL...|\n",
      "|   GELATINA EN POLVO|\n",
      "|         MANTEQUILLA|\n",
      "|      CHILES EN LATA|\n",
      "|           ESMERALDA|\n",
      "|HORTALIZAS CONGEL...|\n",
      "|                 UVA|\n",
      "|            CRAYONES|\n",
      "|         PAN DE CAJA|\n",
      "|     PASTA PARA SOPA|\n",
      "|RASTRILLOS DESECH...|\n",
      "|            MICARDIS|\n",
      "|          SAN RAFAEL|\n",
      "|              CANELA|\n",
      "|               CHILE|\n",
      "|               ARROZ|\n",
      "|            PLANCHAS|\n",
      "|             MUÑECAS|\n",
      "|     HARINA DE TRIGO|\n",
      "|           MERMELADA|\n",
      "|CHULETA DE RES/CH...|\n",
      "|             PLATANO|\n",
      "|       CARNE TERNERA|\n",
      "|            CERILLOS|\n",
      "|        AGUA CON GAS|\n",
      "|    LECHE CONDENSADA|\n",
      "|              ACEITE|\n",
      "|            MAYONESA|\n",
      "|              WHISKY|\n",
      "|             MANZANA|\n",
      "|      FORMULA LACTEA|\n",
      "|  PAN BLANCO BOLILLO|\n",
      "|               HUEVO|\n",
      "|        PANZA DE RES|\n",
      "|              LYRICA|\n",
      "|              AZUCAR|\n",
      "|LIMPIADOR LIQUIDO...|\n",
      "|   SUAVIZANTE P/ROPA|\n",
      "|    MANTECA DE CERDO|\n",
      "|      JUEGOS DE MESA|\n",
      "+--------------------+\n",
      "\n"
     ]
    }
   ],
   "source": [
    "canasta_df.show(220)"
   ]
  },
  {
   "cell_type": "code",
   "execution_count": null,
   "metadata": {},
   "outputs": [],
   "source": []
  }
 ],
 "metadata": {
  "kernelspec": {
   "display_name": "Python 3",
   "language": "python",
   "name": "python3"
  },
  "language_info": {
   "codemirror_mode": {
    "name": "ipython",
    "version": 3
   },
   "file_extension": ".py",
   "mimetype": "text/x-python",
   "name": "python",
   "nbconvert_exporter": "python",
   "pygments_lexer": "ipython3",
   "version": "3.8.0"
  }
 },
 "nbformat": 4,
 "nbformat_minor": 4
}
